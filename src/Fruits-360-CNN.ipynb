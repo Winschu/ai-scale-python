{
 "cells": [
  {
   "cell_type": "markdown",
   "metadata": {
    "collapsed": false
   },
   "source": [
    "This is a walkthrough to create the model"
   ]
  },
  {
   "cell_type": "markdown",
   "metadata": {
    "collapsed": false
   },
   "source": [
    "First we have to define all functions that we use at a later stage"
   ]
  },
  {
   "cell_type": "code",
   "outputs": [
    {
     "name": "stdout",
     "output_type": "stream",
     "text": [
      "TensorFlow version:  2.15.0\n",
      "Current environment binary:  /home/marcel/miniconda3/envs/tensorflow_39_env/bin/python\n",
      "Is CUDA enabled?:  True\n",
      "NVCC Version Information:\n",
      "/bin/bash: /home/marcel/miniconda3/lib/libtinfo.so.6: no version information available (required by /bin/bash)\r\n",
      "/bin/bash: warning: setlocale: LC_ALL: cannot change locale (en_US.UTF-8)\r\n",
      "nvcc: NVIDIA (R) Cuda compiler driver\r\n",
      "Copyright (c) 2005-2021 NVIDIA Corporation\r\n",
      "Built on Thu_Nov_18_09:45:30_PST_2021\r\n",
      "Cuda compilation tools, release 11.5, V11.5.119\r\n",
      "Build cuda_11.5.r11.5/compiler.30672275_0\r\n"
     ]
    }
   ],
   "source": [
    "import sys, os, shutil, logging, h5py\n",
    "\n",
    "import matplotlib.pyplot as plt\n",
    "\n",
    "from tqdm.keras import TqdmCallback\n",
    "\n",
    "import numpy as np\n",
    "import tensorflow as tf\n",
    "\n",
    "print(\"TensorFlow version: \", tf.__version__)\n",
    "\n",
    "from tensorflow.keras.models import Model, load_model\n",
    "from tensorflow.keras.layers import Input, Dense, Conv2D, MaxPooling2D, Flatten, Dropout, Lambda\n",
    "from tensorflow.keras.optimizers import Adadelta\n",
    "from tensorflow.keras.preprocessing.image import ImageDataGenerator\n",
    "from tensorflow.keras.applications import VGG19\n",
    "from tensorflow.keras.callbacks import Callback, ReduceLROnPlateau\n",
    "\n",
    "print(\"Current environment binary: \", sys.executable)\n",
    "\n",
    "print(\"Is CUDA enabled?: \", tf.test.is_built_with_cuda())\n",
    "\n",
    "print(\"NVCC Version Information:\")\n",
    "\n",
    "# Überprüfen Sie die installierte CUDA-Version.\n",
    "!nvcc --version\n",
    "\n",
    "logging.getLogger('absl').setLevel(logging.ERROR)\n",
    "\n",
    "##############################################\n",
    "learning_rate = 0.1  # initial learning rate\n",
    "min_learning_rate = 0.00001  # once the learning rate reaches this value, do not decrease it further\n",
    "learning_rate_reduction_factor = 0.5  # the factor used when reducing the learning rate -> learning_rate *= learning_rate_reduction_factor\n",
    "patience = 3  # how many epochs to wait before reducing the learning rate when the loss plateaus\n",
    "verbose = 1  # controls the amount of logging done during training and testing: 0 - none, 1 - reports metrics after each batch, 2 - reports metrics after each epoch\n",
    "image_size = (100, 100)  # width and height of the used images\n",
    "input_shape = (100, 100,\n",
    "               3)  # the expected input shape for the trained models; since the images in the Fruit-360 are 100 x 100 RGB images, this is the required input shape\n",
    "\n",
    "use_label_file = False  # set this to true if you want load the label names from a file; uses the label_file defined below; the file should contain the names of the used labels, each label on a separate line\n",
    "label_file = 'labels.txt'\n",
    "base_dir = './data'  # relative path to the Fruit-Images-Dataset folder\n",
    "test_dir = os.path.join(base_dir, 'Test')\n",
    "train_dir = os.path.join(base_dir, 'Training')\n",
    "output_dir = 'output_files'  # root folder in which to save the output files; the files will be under output_files/model_name \n",
    "##############################################\n",
    "\n",
    "@tf.function\n",
    "def convert_to_hsv_and_grayscale(x):\n",
    "    hsv = tf.image.rgb_to_hsv(x)\n",
    "    gray = tf.image.rgb_to_grayscale(x)\n",
    "    rez = tf.concat([hsv, gray], axis=-1)\n",
    "    return rez\n",
    "\n",
    "\n",
    "def network(input_shape: any, num_classes):\n",
    "    img_input = Input(shape=input_shape, name='data')\n",
    "    x = Lambda(convert_to_hsv_and_grayscale)(img_input)\n",
    "    x = Conv2D(16, (5, 5), strides=(1, 1), padding='same', activation='relu', name='conv1')(x)\n",
    "    x = MaxPooling2D((2, 2), strides=(2, 2), padding='valid', name='pool1')(x)\n",
    "    x = Conv2D(32, (5, 5), strides=(1, 1), padding='same', activation='relu', name='conv2')(x)\n",
    "    x = MaxPooling2D((2, 2), strides=(2, 2), padding='valid', name='pool2')(x)\n",
    "    x = Conv2D(64, (5, 5), strides=(1, 1), padding='same', activation='relu', name='conv3')(x)\n",
    "    x = MaxPooling2D((2, 2), strides=(2, 2), padding='valid', name='pool3')(x)\n",
    "    x = Conv2D(128, (5, 5), strides=(1, 1), padding='same', activation='relu', name='conv4')(x)\n",
    "    x = MaxPooling2D((2, 2), strides=(2, 2), padding='valid', name='pool4')(x)\n",
    "    x = Flatten()(x)\n",
    "    x = Dense(1024, activation='relu', name='fcl1')(x)\n",
    "    x = Dropout(0.2)(x)\n",
    "    x = Dense(256, activation='relu', name='fcl2')(x)\n",
    "    x = Dropout(0.2)(x)\n",
    "    out = Dense(num_classes, activation='softmax', name='predictions')(x)\n",
    "    rez = Model(inputs=img_input, outputs=out)\n",
    "    return rez\n",
    "\n",
    "\n",
    "def network19(input_shape, num_classes):\n",
    "    # Laden des VGG19 Modells\n",
    "    vgg19_model = VGG19(weights='imagenet', include_top=False, input_shape=input_shape)\n",
    "\n",
    "    # Setzen der Trainingparameter auf False\n",
    "    for layer in vgg19_model.layers:\n",
    "        layer.trainable = False\n",
    "\n",
    "    img_input = Input(shape=input_shape, name='data')\n",
    "    x = Lambda(convert_to_hsv_and_grayscale)(img_input)\n",
    "\n",
    "    # Behalte nur die ersten drei Kanäle bei\n",
    "    x = Lambda(lambda x: x[:, :, :, :3])(x)\n",
    "\n",
    "    # Hinzufügen von VGG19 zu deinem Modell\n",
    "    x = vgg19_model(x)\n",
    "\n",
    "    x = Flatten()(x)\n",
    "    x = Dense(1024, activation='relu', name='fcl1')(x)\n",
    "    x = Dropout(0.2)(x)\n",
    "    x = Dense(256, activation='relu', name='fcl2')(x)\n",
    "    x = Dropout(0.2)(x)\n",
    "    out = Dense(num_classes, activation='softmax', name='predictions')(x)\n",
    "    model = Model(inputs=img_input, outputs=out)\n",
    "    return model\n",
    "\n",
    "\n",
    "def plot_model_history(model_history: object, out_path=\"\"):\n",
    "    \"\"\"\n",
    "    Plot the accuracy and loss history of a model.\n",
    "\n",
    "    :param model_history: The history object of a trained model.\n",
    "    :type model_history: object\n",
    "    :param out_path: The directory to save the plot. If not provided, the plot will be displayed instead.\n",
    "    :type out_path: str\n",
    "    :return: None\n",
    "    :rtype: None\n",
    "    \"\"\"\n",
    "    fig, axs = plt.subplots(1, 2)\n",
    "    # summarize history for accuracy\n",
    "    axs[0].plot(range(1, len(model_history.history['accuracy']) + 1), model_history.history['accuracy'])\n",
    "    axs[0].plot(range(1, len(model_history.history.get('val_accuracy', [])) + 1),\n",
    "                model_history.history.get('val_accuracy', []))\n",
    "    axs[0].set_title('Model Accuracy')\n",
    "    axs[0].set_ylabel('Accuracy')\n",
    "    axs[0].set_xlabel('Epoch')\n",
    "    axs[0].set_xticks(range(1, len(model_history.history['accuracy']) + 1))\n",
    "    axs[0].legend(['train', 'val'], loc='best')\n",
    "    # summarize history for loss\n",
    "    axs[1].plot(range(1, len(model_history.history['loss']) + 1), model_history.history['loss'])\n",
    "    axs[1].plot(range(1, len(model_history.history.get('val_loss', [])) + 1), model_history.history.get('val_loss', []))\n",
    "    axs[1].set_title('Model Loss')\n",
    "    axs[1].set_ylabel('Loss')\n",
    "    axs[1].set_xlabel('Epoch')\n",
    "    axs[1].set_xticks(range(1, len(model_history.history['loss']) + 1))\n",
    "    axs[1].legend(['train', 'val'], loc='best')\n",
    "    # save the graph in a file called \"acc_loss.png\" to be available for later; the model_name is provided when creating and training a model\n",
    "    if out_path:\n",
    "        plt.savefig(out_path + \"/acc_loss.png\")\n",
    "    plt.show()\n",
    "\n",
    "\n",
    "# create a confusion matrix to visually represent incorrectly classified images\n",
    "def plot_confusion_matrix(y_true, y_pred, classes, out_path=\"\"):\n",
    "    cm = confusion_matrix(y_true, y_pred)\n",
    "    df_cm = pd.DataFrame(cm, index=[i for i in classes], columns=[i for i in classes])\n",
    "    plt.figure(figsize=(40, 40))\n",
    "    ax = sn.heatmap(df_cm, annot=True, square=True, fmt=\"d\", linewidths=.2, cbar_kws={\"shrink\": 0.8})\n",
    "    if out_path:\n",
    "        plt.savefig(\n",
    "            out_path + \"/confusion_matrix.png\")  # as in the plot_model_history, the matrix is saved in a file called \"model_name_confusion_matrix.png\"\n",
    "    return ax\n",
    "\n",
    "\n",
    "@tf.function\n",
    "def augment_image(x):\n",
    "    x = tf.image.random_saturation(x, 0.9, 1.2)\n",
    "    x = tf.image.random_hue(x, 0.02)\n",
    "    return x\n",
    "\n",
    "\n",
    "def build_data_generators(train_folder, test_folder, validation_percent, labels=None, image_size=(100, 100),\n",
    "                          batch_size=50):\n",
    "    \"\"\"\n",
    "    Build data generators for training, validation, and testing.\n",
    "\n",
    "    :param train_folder: The path to the training data folder.\n",
    "    :type train_folder: str\n",
    "    :param test_folder: The path to the testing data folder.\n",
    "    :type test_folder: str\n",
    "    :param validation_percent: The percentage indicating how much of the training set\n",
    "        should be kept for validation.\n",
    "    :type validation_percent: float\n",
    "    :param labels: The list of labels. Default is None.\n",
    "    :type labels: list or None\n",
    "    :param image_size: The target size of the images. Default is (100, 100).\n",
    "    :type image_size: tuple\n",
    "    :param batch_size: The number of samples per batch. Default is 50.\n",
    "    :type batch_size: int\n",
    "    :return: The data generators for training, validation, and testing.\n",
    "    :rtype: tuple\n",
    "    \"\"\"\n",
    "    train_datagen = ImageDataGenerator(\n",
    "        width_shift_range=0.0,\n",
    "        height_shift_range=0.0,\n",
    "        zoom_range=0.0,\n",
    "        horizontal_flip=True,\n",
    "        vertical_flip=True,  # randomly flip images\n",
    "        preprocessing_function=augment_image,\n",
    "        validation_split=validation_percent)  # percentage indicating how much of the training set should be kept for validation\n",
    "\n",
    "    test_datagen = ImageDataGenerator()\n",
    "\n",
    "    train_gen = train_datagen.flow_from_directory(train_folder, target_size=image_size, class_mode='sparse',\n",
    "                                                  batch_size=batch_size, shuffle=True, subset='training',\n",
    "                                                  classes=labels)\n",
    "    validation_gen = train_datagen.flow_from_directory(train_folder, target_size=image_size, class_mode='sparse',\n",
    "                                                       batch_size=batch_size, shuffle=False, subset='validation',\n",
    "                                                       classes=labels)\n",
    "    test_gen = test_datagen.flow_from_directory(test_folder, target_size=image_size, class_mode='sparse',\n",
    "                                                batch_size=batch_size, shuffle=False, subset=None, classes=labels)\n",
    "    return train_gen, validation_gen, test_gen\n",
    "\n",
    "class CustomModelCheckpoint(Callback):\n",
    "\n",
    "    def __init__(self, filepath, monitor='accuracy', verbose=1, mode='max', save_best_only=True):\n",
    "        super().__init__()\n",
    "        self.filepath = filepath\n",
    "        self.monitor = monitor\n",
    "        self.verbose = verbose\n",
    "        self.mode = mode\n",
    "        self.save_best_only = save_best_only\n",
    "        if self.save_best_only:\n",
    "            if self.mode == 'min':\n",
    "                self.best = np.Inf\n",
    "            elif self.mode == 'max':\n",
    "                self.best = -np.Inf\n",
    "\n",
    "    def on_epoch_end(self, epoch, logs=None):\n",
    "        print(f\"Logs during epoch end {logs}\")\n",
    "        current_value = logs.get(self.monitor)\n",
    "        self.best = current_value\n",
    "        self.model.save(self.filepath)\n",
    "        print(f\"Model saved successfully at {self.filepath}\")\n",
    "\n",
    "# this method performs all the steps from data setup, training and testing the model and plotting the results\n",
    "# the model is any trainable model; the input shape and output number of classes is dependant on the dataset used, in this case the input is 100x100 RGB images and the output is a softmax layer with 118 probabilities\n",
    "# the name is used to save the classification report containing the f1 score of the model, the plots showing the loss and accuracy and the confusion matrix\n",
    "# the batch size is used to determine the number of images passed through the network at once, the number of steps per epochs is derived from this as (total number of images in set // batch size) + 1\n",
    "def train_and_evaluate_model(model, name=\"\", epochs=50, batch_size=29, verbose=1, useCkpt=False):\n",
    "    print(model.summary())\n",
    "    model_out_dir = os.path.join(output_dir, name)\n",
    "    \n",
    "    folder = model_out_dir\n",
    "    for filename in os.listdir(folder):\n",
    "        file_path = os.path.join(folder, filename)\n",
    "        try:\n",
    "            if os.path.isfile(file_path) or os.path.islink(file_path):\n",
    "                os.unlink(file_path)\n",
    "            elif os.path.isdir(file_path):\n",
    "                shutil.rmtree(file_path)\n",
    "        except Exception as e:\n",
    "            print('Failed to delete %s. Reason: %s' % (file_path, e))\n",
    "    \n",
    "    if not os.path.exists(model_out_dir):\n",
    "        os.makedirs(model_out_dir)\n",
    "    if useCkpt:\n",
    "        load_model(model_out_dir + \"/model.tf\")\n",
    "\n",
    "    trainGen, validationGen, testGen = build_data_generators(train_dir, test_dir, validation_percent=0.1, labels=labels,\n",
    "                                                             image_size=image_size, batch_size=batch_size)\n",
    "    optimizer = Adadelta(learning_rate=learning_rate)\n",
    "    model.compile(optimizer=optimizer, loss=\"sparse_categorical_crossentropy\", metrics=['accuracy'])\n",
    "    learning_rate_reduction = ReduceLROnPlateau(monitor='val_loss', patience=patience, verbose=verbose,\n",
    "                                                factor=learning_rate_reduction_factor, min_lr=min_learning_rate)\n",
    "    \n",
    "    print(f\"Model will be saved in: {model_out_dir}\")\n",
    "    print(\"Does the output directory exist?\", os.path.isdir(model_out_dir))\n",
    "    \n",
    "    save_model = CustomModelCheckpoint(filepath=model_out_dir + \"/model.tf\", monitor='accuracy', verbose=verbose, mode='max', save_best_only=False)\n",
    "\n",
    "    history = model.fit(trainGen,\n",
    "                        epochs=epochs,\n",
    "                        steps_per_epoch=(trainGen.n // batch_size) + 1,\n",
    "                        validation_data=validationGen,\n",
    "                        validation_steps=(validationGen.n // batch_size) + 1,\n",
    "                        verbose=0,\n",
    "                        callbacks=[learning_rate_reduction, save_model, TqdmCallback(verbose=1)])\n",
    "\n",
    "    print(os.path.exists(model_out_dir + \"/model.tf\"))\n",
    "    print(os.getcwd()) \n",
    "\n",
    "    try:\n",
    "        model_path = model_out_dir + \"/model.tf\"\n",
    "        print(f\"Trying to load the model from: {model_path}\")\n",
    "        loaded_model = load_model(model_path)\n",
    "    except Exception as e:\n",
    "        print(\"Exception occurred while loading the model\")\n",
    "        print(e)\n",
    "\n",
    "    validationGen.reset()\n",
    "    loss_v, accuracy_v = model.evaluate(validationGen, steps=(validationGen.n // batch_size) + 1, verbose=verbose)\n",
    "    loss, accuracy = model.evaluate(testGen, steps=(testGen.n // batch_size) + 1, verbose=verbose)\n",
    "    print(\"Validation: accuracy = %f  ;  loss_v = %f\" % (accuracy_v, loss_v))\n",
    "    print(\"Test: accuracy = %f  ;  loss_v = %f\" % (accuracy, loss))\n",
    "    \n",
    "    try:\n",
    "        plot_model_history(history, out_path=model_out_dir)\n",
    "    except Exception as e:\n",
    "        print(f\"An error occurred while plotting model history: {e}\")\n",
    "    testGen.reset()\n",
    "    y_pred = model.predict(testGen, steps=(testGen.n // batch_size) + 1, verbose=verbose)\n",
    "    y_true = testGen.classes[testGen.index_array]\n",
    "    try:\n",
    "        plot_confusion_matrix(y_true, y_pred.argmax(axis=-1), labels, out_path=model_out_dir)\n",
    "    except Exception as e:\n",
    "        print(f\"An error occurred while plotting confusion matrix: {e}\")\n",
    "    class_report = classification_report(y_true, y_pred.argmax(axis=-1), target_names=labels)\n",
    "\n",
    "    with open(model_out_dir + \"/classification_report.txt\", \"w\") as text_file:\n",
    "        text_file.write(\"%s\" % class_report)\n",
    "    # print(class_report)\n"
   ],
   "metadata": {
    "collapsed": false,
    "ExecuteTime": {
     "end_time": "2024-02-07T12:08:26.348779600Z",
     "start_time": "2024-02-07T12:08:26.055818900Z"
    }
   },
   "execution_count": 7
  },
  {
   "cell_type": "markdown",
   "metadata": {
    "collapsed": false
   },
   "source": [
    "Generate structural data and labels"
   ]
  },
  {
   "cell_type": "code",
   "execution_count": 8,
   "metadata": {
    "collapsed": false,
    "ExecuteTime": {
     "end_time": "2024-02-07T12:08:28.214677900Z",
     "start_time": "2024-02-07T12:08:28.162169500Z"
    }
   },
   "outputs": [
    {
     "name": "stdout",
     "output_type": "stream",
     "text": [
      "['Apple Braeburn', 'Orange', 'Plum']\n",
      "3\n"
     ]
    }
   ],
   "source": [
    "import pandas as pd\n",
    "import seaborn as sn\n",
    "import os\n",
    "\n",
    "from sklearn.metrics import confusion_matrix, classification_report\n",
    "\n",
    "if not os.path.exists(output_dir):\n",
    "    os.makedirs(output_dir)\n",
    "\n",
    "if use_label_file:\n",
    "    with open(label_file, \"r\") as f:\n",
    "        labels = [x.strip() for x in f.readlines()]\n",
    "else:\n",
    "    labels = os.listdir(train_dir)\n",
    "num_classes = len(labels)\n",
    "\n",
    "print(labels)\n",
    "print(num_classes)"
   ]
  },
  {
   "cell_type": "code",
   "execution_count": 9,
   "metadata": {
    "pycharm": {
     "is_executing": false
    },
    "ExecuteTime": {
     "end_time": "2024-02-07T12:14:09.209495200Z",
     "start_time": "2024-02-07T12:08:29.487437Z"
    }
   },
   "outputs": [
    {
     "name": "stdout",
     "output_type": "stream",
     "text": [
      "Model: \"model_1\"\n",
      "_________________________________________________________________\n",
      " Layer (type)                Output Shape              Param #   \n",
      "=================================================================\n",
      " data (InputLayer)           [(None, 100, 100, 3)]     0         \n",
      "                                                                 \n",
      " lambda_1 (Lambda)           (None, 100, 100, 4)       0         \n",
      "                                                                 \n",
      " conv1 (Conv2D)              (None, 100, 100, 16)      1616      \n",
      "                                                                 \n",
      " pool1 (MaxPooling2D)        (None, 50, 50, 16)        0         \n",
      "                                                                 \n",
      " conv2 (Conv2D)              (None, 50, 50, 32)        12832     \n",
      "                                                                 \n",
      " pool2 (MaxPooling2D)        (None, 25, 25, 32)        0         \n",
      "                                                                 \n",
      " conv3 (Conv2D)              (None, 25, 25, 64)        51264     \n",
      "                                                                 \n",
      " pool3 (MaxPooling2D)        (None, 12, 12, 64)        0         \n",
      "                                                                 \n",
      " conv4 (Conv2D)              (None, 12, 12, 128)       204928    \n",
      "                                                                 \n",
      " pool4 (MaxPooling2D)        (None, 6, 6, 128)         0         \n",
      "                                                                 \n",
      " flatten_1 (Flatten)         (None, 4608)              0         \n",
      "                                                                 \n",
      " fcl1 (Dense)                (None, 1024)              4719616   \n",
      "                                                                 \n",
      " dropout_2 (Dropout)         (None, 1024)              0         \n",
      "                                                                 \n",
      " fcl2 (Dense)                (None, 256)               262400    \n",
      "                                                                 \n",
      " dropout_3 (Dropout)         (None, 256)               0         \n",
      "                                                                 \n",
      " predictions (Dense)         (None, 3)                 771       \n",
      "                                                                 \n",
      "=================================================================\n",
      "Total params: 5253427 (20.04 MB)\n",
      "Trainable params: 5253427 (20.04 MB)\n",
      "Non-trainable params: 0 (0.00 Byte)\n",
      "_________________________________________________________________\n",
      "None\n",
      "Found 1278 images belonging to 3 classes.\n",
      "Found 140 images belonging to 3 classes.\n",
      "Found 475 images belonging to 3 classes.\n",
      "Model will be saved in: output_files/model\n",
      "Does the output directory exist? True\n"
     ]
    },
    {
     "data": {
      "text/plain": "0epoch [00:00, ?epoch/s]",
      "application/vnd.jupyter.widget-view+json": {
       "version_major": 2,
       "version_minor": 0,
       "model_id": "8af8b3416fcf4970ad1e1841205b7ed0"
      }
     },
     "metadata": {},
     "output_type": "display_data"
    },
    {
     "data": {
      "text/plain": "0batch [00:00, ?batch/s]",
      "application/vnd.jupyter.widget-view+json": {
       "version_major": 2,
       "version_minor": 0,
       "model_id": "c16bee0f61e84475b3688b32c718c5b6"
      }
     },
     "metadata": {},
     "output_type": "display_data"
    },
    {
     "name": "stdout",
     "output_type": "stream",
     "text": [
      "Logs during epoch end {'loss': 4.241174697875977, 'accuracy': 0.6510171890258789, 'val_loss': 0.09931585192680359, 'val_accuracy': 0.9785714149475098, 'lr': 0.1}\n",
      "INFO:tensorflow:Assets written to: output_files/model/model.tf/assets\n"
     ]
    },
    {
     "name": "stderr",
     "output_type": "stream",
     "text": [
      "INFO:tensorflow:Assets written to: output_files/model/model.tf/assets\n"
     ]
    },
    {
     "name": "stdout",
     "output_type": "stream",
     "text": [
      "Model saved successfully at output_files/model/model.tf\n",
      "Logs during epoch end {'loss': 0.30662232637405396, 'accuracy': 0.8896713852882385, 'val_loss': 0.0021609279792755842, 'val_accuracy': 1.0, 'lr': 0.1}\n",
      "INFO:tensorflow:Assets written to: output_files/model/model.tf/assets\n"
     ]
    },
    {
     "name": "stderr",
     "output_type": "stream",
     "text": [
      "INFO:tensorflow:Assets written to: output_files/model/model.tf/assets\n"
     ]
    },
    {
     "name": "stdout",
     "output_type": "stream",
     "text": [
      "Model saved successfully at output_files/model/model.tf\n",
      "Logs during epoch end {'loss': 0.19100487232208252, 'accuracy': 0.934272289276123, 'val_loss': 0.30548742413520813, 'val_accuracy': 0.8500000238418579, 'lr': 0.1}\n",
      "INFO:tensorflow:Assets written to: output_files/model/model.tf/assets\n"
     ]
    },
    {
     "name": "stderr",
     "output_type": "stream",
     "text": [
      "INFO:tensorflow:Assets written to: output_files/model/model.tf/assets\n"
     ]
    },
    {
     "name": "stdout",
     "output_type": "stream",
     "text": [
      "Model saved successfully at output_files/model/model.tf\n",
      "Logs during epoch end {'loss': 0.18009866774082184, 'accuracy': 0.9428794980049133, 'val_loss': 0.004061583895236254, 'val_accuracy': 1.0, 'lr': 0.1}\n",
      "INFO:tensorflow:Assets written to: output_files/model/model.tf/assets\n"
     ]
    },
    {
     "name": "stderr",
     "output_type": "stream",
     "text": [
      "INFO:tensorflow:Assets written to: output_files/model/model.tf/assets\n"
     ]
    },
    {
     "name": "stdout",
     "output_type": "stream",
     "text": [
      "Model saved successfully at output_files/model/model.tf\n",
      "Logs during epoch end {'loss': 0.20418265461921692, 'accuracy': 0.9319248795509338, 'val_loss': 0.00092122214846313, 'val_accuracy': 1.0, 'lr': 0.1}\n",
      "INFO:tensorflow:Assets written to: output_files/model/model.tf/assets\n"
     ]
    },
    {
     "name": "stderr",
     "output_type": "stream",
     "text": [
      "INFO:tensorflow:Assets written to: output_files/model/model.tf/assets\n"
     ]
    },
    {
     "name": "stdout",
     "output_type": "stream",
     "text": [
      "Model saved successfully at output_files/model/model.tf\n",
      "Logs during epoch end {'loss': 0.07738735526800156, 'accuracy': 0.9741784334182739, 'val_loss': 0.028435859829187393, 'val_accuracy': 0.9928571581840515, 'lr': 0.1}\n",
      "INFO:tensorflow:Assets written to: output_files/model/model.tf/assets\n"
     ]
    },
    {
     "name": "stderr",
     "output_type": "stream",
     "text": [
      "INFO:tensorflow:Assets written to: output_files/model/model.tf/assets\n"
     ]
    },
    {
     "name": "stdout",
     "output_type": "stream",
     "text": [
      "Model saved successfully at output_files/model/model.tf\n",
      "Logs during epoch end {'loss': 0.22881461679935455, 'accuracy': 0.9452269077301025, 'val_loss': 0.0015933179529383779, 'val_accuracy': 1.0, 'lr': 0.1}\n",
      "INFO:tensorflow:Assets written to: output_files/model/model.tf/assets\n"
     ]
    },
    {
     "name": "stderr",
     "output_type": "stream",
     "text": [
      "INFO:tensorflow:Assets written to: output_files/model/model.tf/assets\n"
     ]
    },
    {
     "name": "stdout",
     "output_type": "stream",
     "text": [
      "Model saved successfully at output_files/model/model.tf\n",
      "\n",
      "Epoch 8: ReduceLROnPlateau reducing learning rate to 0.05000000074505806.\n",
      "Logs during epoch end {'loss': 0.03270872309803963, 'accuracy': 0.9890453815460205, 'val_loss': 0.0137988505885005, 'val_accuracy': 1.0, 'lr': 0.1}\n",
      "INFO:tensorflow:Assets written to: output_files/model/model.tf/assets\n"
     ]
    },
    {
     "name": "stderr",
     "output_type": "stream",
     "text": [
      "INFO:tensorflow:Assets written to: output_files/model/model.tf/assets\n"
     ]
    },
    {
     "name": "stdout",
     "output_type": "stream",
     "text": [
      "Model saved successfully at output_files/model/model.tf\n",
      "Logs during epoch end {'loss': 0.019677450880408287, 'accuracy': 0.9945226907730103, 'val_loss': 0.0010220042895525694, 'val_accuracy': 1.0, 'lr': 0.05}\n",
      "INFO:tensorflow:Assets written to: output_files/model/model.tf/assets\n"
     ]
    },
    {
     "name": "stderr",
     "output_type": "stream",
     "text": [
      "INFO:tensorflow:Assets written to: output_files/model/model.tf/assets\n"
     ]
    },
    {
     "name": "stdout",
     "output_type": "stream",
     "text": [
      "Model saved successfully at output_files/model/model.tf\n",
      "Logs during epoch end {'loss': 0.008782412856817245, 'accuracy': 0.9968701004981995, 'val_loss': 0.0004700325953308493, 'val_accuracy': 1.0, 'lr': 0.05}\n",
      "INFO:tensorflow:Assets written to: output_files/model/model.tf/assets\n"
     ]
    },
    {
     "name": "stderr",
     "output_type": "stream",
     "text": [
      "INFO:tensorflow:Assets written to: output_files/model/model.tf/assets\n"
     ]
    },
    {
     "name": "stdout",
     "output_type": "stream",
     "text": [
      "Model saved successfully at output_files/model/model.tf\n",
      "Logs during epoch end {'loss': 0.007029173895716667, 'accuracy': 0.9992175102233887, 'val_loss': 0.00018118205480277538, 'val_accuracy': 1.0, 'lr': 0.05}\n",
      "INFO:tensorflow:Assets written to: output_files/model/model.tf/assets\n"
     ]
    },
    {
     "name": "stderr",
     "output_type": "stream",
     "text": [
      "INFO:tensorflow:Assets written to: output_files/model/model.tf/assets\n"
     ]
    },
    {
     "name": "stdout",
     "output_type": "stream",
     "text": [
      "Model saved successfully at output_files/model/model.tf\n",
      "Logs during epoch end {'loss': 0.012684031389653683, 'accuracy': 0.9953051805496216, 'val_loss': 9.949548257282004e-05, 'val_accuracy': 1.0, 'lr': 0.05}\n",
      "INFO:tensorflow:Assets written to: output_files/model/model.tf/assets\n"
     ]
    },
    {
     "name": "stderr",
     "output_type": "stream",
     "text": [
      "INFO:tensorflow:Assets written to: output_files/model/model.tf/assets\n"
     ]
    },
    {
     "name": "stdout",
     "output_type": "stream",
     "text": [
      "Model saved successfully at output_files/model/model.tf\n",
      "Logs during epoch end {'loss': 0.002060436410829425, 'accuracy': 1.0, 'val_loss': 3.847436892101541e-05, 'val_accuracy': 1.0, 'lr': 0.05}\n",
      "INFO:tensorflow:Assets written to: output_files/model/model.tf/assets\n"
     ]
    },
    {
     "name": "stderr",
     "output_type": "stream",
     "text": [
      "INFO:tensorflow:Assets written to: output_files/model/model.tf/assets\n"
     ]
    },
    {
     "name": "stdout",
     "output_type": "stream",
     "text": [
      "Model saved successfully at output_files/model/model.tf\n",
      "Logs during epoch end {'loss': 0.05087148770689964, 'accuracy': 0.9835680723190308, 'val_loss': 7.19860618119128e-05, 'val_accuracy': 1.0, 'lr': 0.05}\n",
      "INFO:tensorflow:Assets written to: output_files/model/model.tf/assets\n"
     ]
    },
    {
     "name": "stderr",
     "output_type": "stream",
     "text": [
      "INFO:tensorflow:Assets written to: output_files/model/model.tf/assets\n"
     ]
    },
    {
     "name": "stdout",
     "output_type": "stream",
     "text": [
      "Model saved successfully at output_files/model/model.tf\n",
      "Logs during epoch end {'loss': 0.003368118079379201, 'accuracy': 0.9984350800514221, 'val_loss': 0.00011387106496840715, 'val_accuracy': 1.0, 'lr': 0.05}\n",
      "INFO:tensorflow:Assets written to: output_files/model/model.tf/assets\n"
     ]
    },
    {
     "name": "stderr",
     "output_type": "stream",
     "text": [
      "INFO:tensorflow:Assets written to: output_files/model/model.tf/assets\n"
     ]
    },
    {
     "name": "stdout",
     "output_type": "stream",
     "text": [
      "Model saved successfully at output_files/model/model.tf\n",
      "\n",
      "Epoch 16: ReduceLROnPlateau reducing learning rate to 0.02500000037252903.\n",
      "Logs during epoch end {'loss': 0.003017206210643053, 'accuracy': 0.9992175102233887, 'val_loss': 2.2787973648519255e-05, 'val_accuracy': 1.0, 'lr': 0.05}\n",
      "INFO:tensorflow:Assets written to: output_files/model/model.tf/assets\n"
     ]
    },
    {
     "name": "stderr",
     "output_type": "stream",
     "text": [
      "INFO:tensorflow:Assets written to: output_files/model/model.tf/assets\n"
     ]
    },
    {
     "name": "stdout",
     "output_type": "stream",
     "text": [
      "Model saved successfully at output_files/model/model.tf\n",
      "Logs during epoch end {'loss': 0.0014949006726965308, 'accuracy': 0.9992175102233887, 'val_loss': 4.849306424148381e-05, 'val_accuracy': 1.0, 'lr': 0.025}\n",
      "INFO:tensorflow:Assets written to: output_files/model/model.tf/assets\n"
     ]
    },
    {
     "name": "stderr",
     "output_type": "stream",
     "text": [
      "INFO:tensorflow:Assets written to: output_files/model/model.tf/assets\n"
     ]
    },
    {
     "name": "stdout",
     "output_type": "stream",
     "text": [
      "Model saved successfully at output_files/model/model.tf\n",
      "Logs during epoch end {'loss': 0.003262485144659877, 'accuracy': 0.9992175102233887, 'val_loss': 9.927250357577577e-05, 'val_accuracy': 1.0, 'lr': 0.025}\n",
      "INFO:tensorflow:Assets written to: output_files/model/model.tf/assets\n"
     ]
    },
    {
     "name": "stderr",
     "output_type": "stream",
     "text": [
      "INFO:tensorflow:Assets written to: output_files/model/model.tf/assets\n"
     ]
    },
    {
     "name": "stdout",
     "output_type": "stream",
     "text": [
      "Model saved successfully at output_files/model/model.tf\n",
      "\n",
      "Epoch 19: ReduceLROnPlateau reducing learning rate to 0.012500000186264515.\n",
      "Logs during epoch end {'loss': 0.00039748052950017154, 'accuracy': 1.0, 'val_loss': 1.5036683180369437e-05, 'val_accuracy': 1.0, 'lr': 0.025}\n",
      "INFO:tensorflow:Assets written to: output_files/model/model.tf/assets\n"
     ]
    },
    {
     "name": "stderr",
     "output_type": "stream",
     "text": [
      "INFO:tensorflow:Assets written to: output_files/model/model.tf/assets\n"
     ]
    },
    {
     "name": "stdout",
     "output_type": "stream",
     "text": [
      "Model saved successfully at output_files/model/model.tf\n",
      "Logs during epoch end {'loss': 0.001050442922860384, 'accuracy': 1.0, 'val_loss': 1.1280984836048447e-05, 'val_accuracy': 1.0, 'lr': 0.0125}\n",
      "INFO:tensorflow:Assets written to: output_files/model/model.tf/assets\n"
     ]
    },
    {
     "name": "stderr",
     "output_type": "stream",
     "text": [
      "INFO:tensorflow:Assets written to: output_files/model/model.tf/assets\n"
     ]
    },
    {
     "name": "stdout",
     "output_type": "stream",
     "text": [
      "Model saved successfully at output_files/model/model.tf\n",
      "Logs during epoch end {'loss': 0.0031943852081894875, 'accuracy': 0.9992175102233887, 'val_loss': 1.3726232282351702e-05, 'val_accuracy': 1.0, 'lr': 0.0125}\n",
      "INFO:tensorflow:Assets written to: output_files/model/model.tf/assets\n"
     ]
    },
    {
     "name": "stderr",
     "output_type": "stream",
     "text": [
      "INFO:tensorflow:Assets written to: output_files/model/model.tf/assets\n"
     ]
    },
    {
     "name": "stdout",
     "output_type": "stream",
     "text": [
      "Model saved successfully at output_files/model/model.tf\n",
      "\n",
      "Epoch 22: ReduceLROnPlateau reducing learning rate to 0.0062500000931322575.\n",
      "Logs during epoch end {'loss': 0.00033154708216898143, 'accuracy': 1.0, 'val_loss': 1.9546318071661517e-05, 'val_accuracy': 1.0, 'lr': 0.0125}\n",
      "INFO:tensorflow:Assets written to: output_files/model/model.tf/assets\n"
     ]
    },
    {
     "name": "stderr",
     "output_type": "stream",
     "text": [
      "INFO:tensorflow:Assets written to: output_files/model/model.tf/assets\n"
     ]
    },
    {
     "name": "stdout",
     "output_type": "stream",
     "text": [
      "Model saved successfully at output_files/model/model.tf\n",
      "Logs during epoch end {'loss': 0.00249890866689384, 'accuracy': 0.9992175102233887, 'val_loss': 8.632573553768452e-06, 'val_accuracy': 1.0, 'lr': 0.00625}\n",
      "INFO:tensorflow:Assets written to: output_files/model/model.tf/assets\n"
     ]
    },
    {
     "name": "stderr",
     "output_type": "stream",
     "text": [
      "INFO:tensorflow:Assets written to: output_files/model/model.tf/assets\n"
     ]
    },
    {
     "name": "stdout",
     "output_type": "stream",
     "text": [
      "Model saved successfully at output_files/model/model.tf\n",
      "Logs during epoch end {'loss': 0.0003907761420123279, 'accuracy': 1.0, 'val_loss': 1.098804841603851e-05, 'val_accuracy': 1.0, 'lr': 0.00625}\n",
      "INFO:tensorflow:Assets written to: output_files/model/model.tf/assets\n"
     ]
    },
    {
     "name": "stderr",
     "output_type": "stream",
     "text": [
      "INFO:tensorflow:Assets written to: output_files/model/model.tf/assets\n"
     ]
    },
    {
     "name": "stdout",
     "output_type": "stream",
     "text": [
      "Model saved successfully at output_files/model/model.tf\n",
      "\n",
      "Epoch 25: ReduceLROnPlateau reducing learning rate to 0.0031250000465661287.\n",
      "Logs during epoch end {'loss': 0.00026352491113357246, 'accuracy': 1.0, 'val_loss': 1.2814205547329038e-05, 'val_accuracy': 1.0, 'lr': 0.00625}\n",
      "INFO:tensorflow:Assets written to: output_files/model/model.tf/assets\n"
     ]
    },
    {
     "name": "stderr",
     "output_type": "stream",
     "text": [
      "INFO:tensorflow:Assets written to: output_files/model/model.tf/assets\n"
     ]
    },
    {
     "name": "stdout",
     "output_type": "stream",
     "text": [
      "Model saved successfully at output_files/model/model.tf\n",
      "Logs during epoch end {'loss': 0.0005729642580263317, 'accuracy': 1.0, 'val_loss': 8.862882168614306e-06, 'val_accuracy': 1.0, 'lr': 0.003125}\n",
      "INFO:tensorflow:Assets written to: output_files/model/model.tf/assets\n"
     ]
    },
    {
     "name": "stderr",
     "output_type": "stream",
     "text": [
      "INFO:tensorflow:Assets written to: output_files/model/model.tf/assets\n"
     ]
    },
    {
     "name": "stdout",
     "output_type": "stream",
     "text": [
      "Model saved successfully at output_files/model/model.tf\n",
      "Logs during epoch end {'loss': 0.00030676921596750617, 'accuracy': 1.0, 'val_loss': 1.4381905202753842e-05, 'val_accuracy': 1.0, 'lr': 0.003125}\n",
      "INFO:tensorflow:Assets written to: output_files/model/model.tf/assets\n"
     ]
    },
    {
     "name": "stderr",
     "output_type": "stream",
     "text": [
      "INFO:tensorflow:Assets written to: output_files/model/model.tf/assets\n"
     ]
    },
    {
     "name": "stdout",
     "output_type": "stream",
     "text": [
      "Model saved successfully at output_files/model/model.tf\n",
      "\n",
      "Epoch 28: ReduceLROnPlateau reducing learning rate to 0.0015625000232830644.\n",
      "Logs during epoch end {'loss': 0.0004972872557118535, 'accuracy': 1.0, 'val_loss': 7.040724540274823e-06, 'val_accuracy': 1.0, 'lr': 0.003125}\n",
      "INFO:tensorflow:Assets written to: output_files/model/model.tf/assets\n"
     ]
    },
    {
     "name": "stderr",
     "output_type": "stream",
     "text": [
      "INFO:tensorflow:Assets written to: output_files/model/model.tf/assets\n"
     ]
    },
    {
     "name": "stdout",
     "output_type": "stream",
     "text": [
      "Model saved successfully at output_files/model/model.tf\n",
      "Logs during epoch end {'loss': 0.0005213979166001081, 'accuracy': 1.0, 'val_loss': 8.304908988066018e-06, 'val_accuracy': 1.0, 'lr': 0.0015625}\n",
      "INFO:tensorflow:Assets written to: output_files/model/model.tf/assets\n"
     ]
    },
    {
     "name": "stderr",
     "output_type": "stream",
     "text": [
      "INFO:tensorflow:Assets written to: output_files/model/model.tf/assets\n"
     ]
    },
    {
     "name": "stdout",
     "output_type": "stream",
     "text": [
      "Model saved successfully at output_files/model/model.tf\n",
      "Logs during epoch end {'loss': 0.00010085905523737893, 'accuracy': 1.0, 'val_loss': 4.409820576256607e-06, 'val_accuracy': 1.0, 'lr': 0.0015625}\n",
      "INFO:tensorflow:Assets written to: output_files/model/model.tf/assets\n"
     ]
    },
    {
     "name": "stderr",
     "output_type": "stream",
     "text": [
      "INFO:tensorflow:Assets written to: output_files/model/model.tf/assets\n"
     ]
    },
    {
     "name": "stdout",
     "output_type": "stream",
     "text": [
      "Model saved successfully at output_files/model/model.tf\n",
      "\n",
      "Epoch 31: ReduceLROnPlateau reducing learning rate to 0.0007812500116415322.\n",
      "Logs during epoch end {'loss': 0.00016632539336569607, 'accuracy': 1.0, 'val_loss': 3.9466126509069e-06, 'val_accuracy': 1.0, 'lr': 0.0015625}\n",
      "INFO:tensorflow:Assets written to: output_files/model/model.tf/assets\n"
     ]
    },
    {
     "name": "stderr",
     "output_type": "stream",
     "text": [
      "INFO:tensorflow:Assets written to: output_files/model/model.tf/assets\n"
     ]
    },
    {
     "name": "stdout",
     "output_type": "stream",
     "text": [
      "Model saved successfully at output_files/model/model.tf\n",
      "Logs during epoch end {'loss': 0.003586074337363243, 'accuracy': 0.9984350800514221, 'val_loss': 7.547217592218658e-06, 'val_accuracy': 1.0, 'lr': 0.00078125}\n",
      "INFO:tensorflow:Assets written to: output_files/model/model.tf/assets\n"
     ]
    },
    {
     "name": "stderr",
     "output_type": "stream",
     "text": [
      "INFO:tensorflow:Assets written to: output_files/model/model.tf/assets\n"
     ]
    },
    {
     "name": "stdout",
     "output_type": "stream",
     "text": [
      "Model saved successfully at output_files/model/model.tf\n",
      "Logs during epoch end {'loss': 0.00035437627229839563, 'accuracy': 1.0, 'val_loss': 4.411493591760518e-06, 'val_accuracy': 1.0, 'lr': 0.00078125}\n",
      "INFO:tensorflow:Assets written to: output_files/model/model.tf/assets\n"
     ]
    },
    {
     "name": "stderr",
     "output_type": "stream",
     "text": [
      "INFO:tensorflow:Assets written to: output_files/model/model.tf/assets\n"
     ]
    },
    {
     "name": "stdout",
     "output_type": "stream",
     "text": [
      "Model saved successfully at output_files/model/model.tf\n",
      "\n",
      "Epoch 34: ReduceLROnPlateau reducing learning rate to 0.0003906250058207661.\n",
      "Logs during epoch end {'loss': 0.0002770577266346663, 'accuracy': 1.0, 'val_loss': 5.94474022364011e-06, 'val_accuracy': 1.0, 'lr': 0.00078125}\n",
      "INFO:tensorflow:Assets written to: output_files/model/model.tf/assets\n"
     ]
    },
    {
     "name": "stderr",
     "output_type": "stream",
     "text": [
      "INFO:tensorflow:Assets written to: output_files/model/model.tf/assets\n"
     ]
    },
    {
     "name": "stdout",
     "output_type": "stream",
     "text": [
      "Model saved successfully at output_files/model/model.tf\n",
      "Logs during epoch end {'loss': 0.00010805005877045915, 'accuracy': 1.0, 'val_loss': 5.331921329343459e-06, 'val_accuracy': 1.0, 'lr': 0.000390625}\n",
      "INFO:tensorflow:Assets written to: output_files/model/model.tf/assets\n"
     ]
    },
    {
     "name": "stderr",
     "output_type": "stream",
     "text": [
      "INFO:tensorflow:Assets written to: output_files/model/model.tf/assets\n"
     ]
    },
    {
     "name": "stdout",
     "output_type": "stream",
     "text": [
      "Model saved successfully at output_files/model/model.tf\n",
      "Logs during epoch end {'loss': 0.0015416265232488513, 'accuracy': 0.9992175102233887, 'val_loss': 4.832157173950691e-06, 'val_accuracy': 1.0, 'lr': 0.000390625}\n",
      "INFO:tensorflow:Assets written to: output_files/model/model.tf/assets\n"
     ]
    },
    {
     "name": "stderr",
     "output_type": "stream",
     "text": [
      "INFO:tensorflow:Assets written to: output_files/model/model.tf/assets\n"
     ]
    },
    {
     "name": "stdout",
     "output_type": "stream",
     "text": [
      "Model saved successfully at output_files/model/model.tf\n",
      "\n",
      "Epoch 37: ReduceLROnPlateau reducing learning rate to 0.00019531250291038305.\n",
      "Logs during epoch end {'loss': 0.001960459863767028, 'accuracy': 0.9992175102233887, 'val_loss': 8.08700224297354e-06, 'val_accuracy': 1.0, 'lr': 0.000390625}\n",
      "INFO:tensorflow:Assets written to: output_files/model/model.tf/assets\n"
     ]
    },
    {
     "name": "stderr",
     "output_type": "stream",
     "text": [
      "INFO:tensorflow:Assets written to: output_files/model/model.tf/assets\n"
     ]
    },
    {
     "name": "stdout",
     "output_type": "stream",
     "text": [
      "Model saved successfully at output_files/model/model.tf\n",
      "Logs during epoch end {'loss': 0.0008881755056791008, 'accuracy': 1.0, 'val_loss': 6.160065822768956e-06, 'val_accuracy': 1.0, 'lr': 0.0001953125}\n",
      "INFO:tensorflow:Assets written to: output_files/model/model.tf/assets\n"
     ]
    },
    {
     "name": "stderr",
     "output_type": "stream",
     "text": [
      "INFO:tensorflow:Assets written to: output_files/model/model.tf/assets\n"
     ]
    },
    {
     "name": "stdout",
     "output_type": "stream",
     "text": [
      "Model saved successfully at output_files/model/model.tf\n",
      "Logs during epoch end {'loss': 0.0003737849765457213, 'accuracy': 1.0, 'val_loss': 7.422127055178862e-06, 'val_accuracy': 1.0, 'lr': 0.0001953125}\n",
      "INFO:tensorflow:Assets written to: output_files/model/model.tf/assets\n"
     ]
    },
    {
     "name": "stderr",
     "output_type": "stream",
     "text": [
      "INFO:tensorflow:Assets written to: output_files/model/model.tf/assets\n"
     ]
    },
    {
     "name": "stdout",
     "output_type": "stream",
     "text": [
      "Model saved successfully at output_files/model/model.tf\n",
      "\n",
      "Epoch 40: ReduceLROnPlateau reducing learning rate to 9.765625145519152e-05.\n",
      "Logs during epoch end {'loss': 0.004327876027673483, 'accuracy': 0.9992175102233887, 'val_loss': 7.301382083824137e-06, 'val_accuracy': 1.0, 'lr': 0.0001953125}\n",
      "INFO:tensorflow:Assets written to: output_files/model/model.tf/assets\n"
     ]
    },
    {
     "name": "stderr",
     "output_type": "stream",
     "text": [
      "INFO:tensorflow:Assets written to: output_files/model/model.tf/assets\n"
     ]
    },
    {
     "name": "stdout",
     "output_type": "stream",
     "text": [
      "Model saved successfully at output_files/model/model.tf\n",
      "Logs during epoch end {'loss': 0.0009460737346671522, 'accuracy': 1.0, 'val_loss': 6.5919271037273575e-06, 'val_accuracy': 1.0, 'lr': 9.765625e-05}\n",
      "INFO:tensorflow:Assets written to: output_files/model/model.tf/assets\n"
     ]
    },
    {
     "name": "stderr",
     "output_type": "stream",
     "text": [
      "INFO:tensorflow:Assets written to: output_files/model/model.tf/assets\n"
     ]
    },
    {
     "name": "stdout",
     "output_type": "stream",
     "text": [
      "Model saved successfully at output_files/model/model.tf\n",
      "Logs during epoch end {'loss': 0.0001612023770576343, 'accuracy': 1.0, 'val_loss': 6.040294010745129e-06, 'val_accuracy': 1.0, 'lr': 9.765625e-05}\n",
      "INFO:tensorflow:Assets written to: output_files/model/model.tf/assets\n"
     ]
    },
    {
     "name": "stderr",
     "output_type": "stream",
     "text": [
      "INFO:tensorflow:Assets written to: output_files/model/model.tf/assets\n"
     ]
    },
    {
     "name": "stdout",
     "output_type": "stream",
     "text": [
      "Model saved successfully at output_files/model/model.tf\n",
      "\n",
      "Epoch 43: ReduceLROnPlateau reducing learning rate to 4.882812572759576e-05.\n",
      "Logs during epoch end {'loss': 0.0011685846839100122, 'accuracy': 1.0, 'val_loss': 7.089869541232474e-06, 'val_accuracy': 1.0, 'lr': 9.765625e-05}\n",
      "INFO:tensorflow:Assets written to: output_files/model/model.tf/assets\n"
     ]
    },
    {
     "name": "stderr",
     "output_type": "stream",
     "text": [
      "INFO:tensorflow:Assets written to: output_files/model/model.tf/assets\n"
     ]
    },
    {
     "name": "stdout",
     "output_type": "stream",
     "text": [
      "Model saved successfully at output_files/model/model.tf\n",
      "Logs during epoch end {'loss': 0.00015996623551473022, 'accuracy': 1.0, 'val_loss': 4.4992279981670436e-06, 'val_accuracy': 1.0, 'lr': 4.8828126e-05}\n",
      "INFO:tensorflow:Assets written to: output_files/model/model.tf/assets\n"
     ]
    },
    {
     "name": "stderr",
     "output_type": "stream",
     "text": [
      "INFO:tensorflow:Assets written to: output_files/model/model.tf/assets\n"
     ]
    },
    {
     "name": "stdout",
     "output_type": "stream",
     "text": [
      "Model saved successfully at output_files/model/model.tf\n",
      "Logs during epoch end {'loss': 0.0004755625268444419, 'accuracy': 1.0, 'val_loss': 3.6656083466368727e-06, 'val_accuracy': 1.0, 'lr': 4.8828126e-05}\n",
      "INFO:tensorflow:Assets written to: output_files/model/model.tf/assets\n"
     ]
    },
    {
     "name": "stderr",
     "output_type": "stream",
     "text": [
      "INFO:tensorflow:Assets written to: output_files/model/model.tf/assets\n"
     ]
    },
    {
     "name": "stdout",
     "output_type": "stream",
     "text": [
      "Model saved successfully at output_files/model/model.tf\n",
      "\n",
      "Epoch 46: ReduceLROnPlateau reducing learning rate to 2.441406286379788e-05.\n",
      "Logs during epoch end {'loss': 0.00021327115246094763, 'accuracy': 1.0, 'val_loss': 6.2888207139621954e-06, 'val_accuracy': 1.0, 'lr': 4.8828126e-05}\n",
      "INFO:tensorflow:Assets written to: output_files/model/model.tf/assets\n"
     ]
    },
    {
     "name": "stderr",
     "output_type": "stream",
     "text": [
      "INFO:tensorflow:Assets written to: output_files/model/model.tf/assets\n"
     ]
    },
    {
     "name": "stdout",
     "output_type": "stream",
     "text": [
      "Model saved successfully at output_files/model/model.tf\n",
      "Logs during epoch end {'loss': 0.0008916444494388998, 'accuracy': 0.9992175102233887, 'val_loss': 7.379397629847517e-06, 'val_accuracy': 1.0, 'lr': 2.4414063e-05}\n",
      "INFO:tensorflow:Assets written to: output_files/model/model.tf/assets\n"
     ]
    },
    {
     "name": "stderr",
     "output_type": "stream",
     "text": [
      "INFO:tensorflow:Assets written to: output_files/model/model.tf/assets\n"
     ]
    },
    {
     "name": "stdout",
     "output_type": "stream",
     "text": [
      "Model saved successfully at output_files/model/model.tf\n",
      "Logs during epoch end {'loss': 0.000342358136549592, 'accuracy': 1.0, 'val_loss': 4.5715123633272015e-06, 'val_accuracy': 1.0, 'lr': 2.4414063e-05}\n",
      "INFO:tensorflow:Assets written to: output_files/model/model.tf/assets\n"
     ]
    },
    {
     "name": "stderr",
     "output_type": "stream",
     "text": [
      "INFO:tensorflow:Assets written to: output_files/model/model.tf/assets\n"
     ]
    },
    {
     "name": "stdout",
     "output_type": "stream",
     "text": [
      "Model saved successfully at output_files/model/model.tf\n",
      "\n",
      "Epoch 49: ReduceLROnPlateau reducing learning rate to 1.220703143189894e-05.\n",
      "Logs during epoch end {'loss': 0.00045734498417004943, 'accuracy': 1.0, 'val_loss': 6.590130396944005e-06, 'val_accuracy': 1.0, 'lr': 2.4414063e-05}\n",
      "INFO:tensorflow:Assets written to: output_files/model/model.tf/assets\n"
     ]
    },
    {
     "name": "stderr",
     "output_type": "stream",
     "text": [
      "INFO:tensorflow:Assets written to: output_files/model/model.tf/assets\n"
     ]
    },
    {
     "name": "stdout",
     "output_type": "stream",
     "text": [
      "Model saved successfully at output_files/model/model.tf\n",
      "Logs during epoch end {'loss': 0.00016083601803984493, 'accuracy': 1.0, 'val_loss': 4.271875241101952e-06, 'val_accuracy': 1.0, 'lr': 1.2207031e-05}\n",
      "INFO:tensorflow:Assets written to: output_files/model/model.tf/assets\n"
     ]
    },
    {
     "name": "stderr",
     "output_type": "stream",
     "text": [
      "INFO:tensorflow:Assets written to: output_files/model/model.tf/assets\n"
     ]
    },
    {
     "name": "stdout",
     "output_type": "stream",
     "text": [
      "Model saved successfully at output_files/model/model.tf\n",
      "True\n",
      "/mnt/c/Users/Marcel/PycharmProjects/ai-scale-python/src\n",
      "Trying to load the model from: output_files/model/model.tf\n",
      "5/5 [==============================] - 1s 113ms/step - loss: 4.4030e-06 - accuracy: 1.0000\n",
      "17/17 [==============================] - 1s 68ms/step - loss: 0.2519 - accuracy: 0.9305\n",
      "Validation: accuracy = 1.000000  ;  loss_v = 0.000004\n",
      "Test: accuracy = 0.930526  ;  loss_v = 0.251854\n"
     ]
    },
    {
     "data": {
      "text/plain": "<Figure size 640x480 with 2 Axes>",
      "image/png": "[encoded data removed]"
     },
     "metadata": {},
     "output_type": "display_data"
    },
    {
     "name": "stdout",
     "output_type": "stream",
     "text": [
      "17/17 [==============================] - 1s 52ms/step\n"
     ]
    },
    {
     "data": {
      "text/plain": "<Figure size 4000x4000 with 2 Axes>",
      "image/png": "[encoded data removed]"
     },
     "metadata": {},
     "output_type": "display_data"
    }
   ],
   "source": [
    "input_shape = (100, 100, 3)\n",
    "num_classes = 3\n",
    "\n",
    "model = network(input_shape=input_shape, num_classes=num_classes)\n",
    "train_and_evaluate_model(model, name=\"model\")"
   ]
  },
  {
   "cell_type": "code",
   "outputs": [],
   "source": [],
   "metadata": {
    "collapsed": false
   }
  }
 ],
 "metadata": {
  "colab": {
   "name": "Fruits-360 CNN.ipynb",
   "provenance": [],
   "version": "0.3.2"
  },
  "kernelspec": {
   "name": "tensorflow_39_env",
   "language": "python",
   "display_name": "tensorflow_39_env"
  },
  "language_info": {
   "codemirror_mode": {
    "name": "ipython",
    "version": 3
   },
   "file_extension": ".py",
   "mimetype": "text/x-python",
   "name": "python",
   "nbconvert_exporter": "python",
   "pygments_lexer": "ipython3",
   "version": "3.9.18"
  },
  "pycharm": {
   "stem_cell": {
    "cell_type": "raw",
    "metadata": {
     "collapsed": false
    },
    "source": []
   }
  }
 },
 "nbformat": 4,
 "nbformat_minor": 4
}
