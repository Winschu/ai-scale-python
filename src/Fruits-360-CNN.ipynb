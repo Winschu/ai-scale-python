{
 "cells": [
  {
   "cell_type": "markdown",
   "metadata": {
    "collapsed": false
   },
   "source": [
    "This is a walkthrough to create the model"
   ]
  },
  {
   "cell_type": "markdown",
   "metadata": {
    "collapsed": false
   },
   "source": [
    "First we have to define all functions that we use at a later stage"
   ]
  },
  {
   "cell_type": "code",
   "outputs": [
    {
     "name": "stdout",
     "output_type": "stream",
     "text": [
      "TensorFlow version:  2.15.0\n",
      "Current environment binary:  /home/marcel/miniconda3/envs/tensorflow_39_env/bin/python\n",
      "Is CUDA enabled?:  True\n",
      "NVCC Version Information:\n",
      "/bin/bash: /home/marcel/miniconda3/lib/libtinfo.so.6: no version information available (required by /bin/bash)\r\n",
      "/bin/bash: warning: setlocale: LC_ALL: cannot change locale (en_US.UTF-8)\r\n",
      "nvcc: NVIDIA (R) Cuda compiler driver\r\n",
      "Copyright (c) 2005-2021 NVIDIA Corporation\r\n",
      "Built on Thu_Nov_18_09:45:30_PST_2021\r\n",
      "Cuda compilation tools, release 11.5, V11.5.119\r\n",
      "Build cuda_11.5.r11.5/compiler.30672275_0\r\n"
     ]
    }
   ],
   "source": [
    "import sys, os, shutil, logging, h5py\n",
    "\n",
    "import matplotlib.pyplot as plt\n",
    "\n",
    "from tqdm.keras import TqdmCallback\n",
    "\n",
    "import numpy as np\n",
    "import tensorflow as tf\n",
    "\n",
    "print(\"TensorFlow version: \", tf.__version__)\n",
    "\n",
    "from tensorflow.keras.models import Model, load_model\n",
    "from tensorflow.keras.layers import Input, Dense, Conv2D, MaxPooling2D, Flatten, Dropout, Lambda\n",
    "from tensorflow.keras.optimizers import Adadelta\n",
    "from tensorflow.keras.preprocessing.image import ImageDataGenerator\n",
    "from tensorflow.keras.applications import VGG19\n",
    "from tensorflow.keras.callbacks import Callback, ReduceLROnPlateau\n",
    "\n",
    "print(\"Current environment binary: \", sys.executable)\n",
    "\n",
    "print(\"Is CUDA enabled?: \", tf.test.is_built_with_cuda())\n",
    "\n",
    "print(\"NVCC Version Information:\")\n",
    "\n",
    "# Überprüfen Sie die installierte CUDA-Version.\n",
    "!nvcc --version\n",
    "\n",
    "logging.getLogger('absl').setLevel(logging.ERROR)\n",
    "\n",
    "##############################################\n",
    "learning_rate = 0.1  # initial learning rate\n",
    "min_learning_rate = 0.00001  # once the learning rate reaches this value, do not decrease it further\n",
    "learning_rate_reduction_factor = 0.5  # the factor used when reducing the learning rate -> learning_rate *= learning_rate_reduction_factor\n",
    "patience = 3  # how many epochs to wait before reducing the learning rate when the loss plateaus\n",
    "verbose = 1  # controls the amount of logging done during training and testing: 0 - none, 1 - reports metrics after each batch, 2 - reports metrics after each epoch\n",
    "image_size = (100, 100)  # width and height of the used images\n",
    "input_shape = (100, 100,\n",
    "               3)  # the expected input shape for the trained models; since the images in the Fruit-360 are 100 x 100 RGB images, this is the required input shape\n",
    "\n",
    "use_label_file = False  # set this to true if you want load the label names from a file; uses the label_file defined below; the file should contain the names of the used labels, each label on a separate line\n",
    "label_file = 'labels.txt'\n",
    "base_dir = '../..'  # relative path to the Fruit-Images-Dataset folder\n",
    "test_dir = os.path.join(base_dir, 'TestWork')\n",
    "train_dir = os.path.join(base_dir, 'TrainingWork')\n",
    "output_dir = 'output_files'  # root folder in which to save the output files; the files will be under output_files/model_name \n",
    "##############################################\n",
    "\n",
    "@tf.function\n",
    "def convert_to_hsv_and_grayscale(x):\n",
    "    hsv = tf.image.rgb_to_hsv(x)\n",
    "    gray = tf.image.rgb_to_grayscale(x)\n",
    "    rez = tf.concat([hsv, gray], axis=-1)\n",
    "    return rez\n",
    "\n",
    "\n",
    "def network(input_shape: any, num_classes):\n",
    "    img_input = Input(shape=input_shape, name='data')\n",
    "    x = Lambda(convert_to_hsv_and_grayscale)(img_input)\n",
    "    x = Conv2D(16, (5, 5), strides=(1, 1), padding='same', activation='relu', name='conv1')(x)\n",
    "    x = MaxPooling2D((2, 2), strides=(2, 2), padding='valid', name='pool1')(x)\n",
    "    x = Conv2D(32, (5, 5), strides=(1, 1), padding='same', activation='relu', name='conv2')(x)\n",
    "    x = MaxPooling2D((2, 2), strides=(2, 2), padding='valid', name='pool2')(x)\n",
    "    x = Conv2D(64, (5, 5), strides=(1, 1), padding='same', activation='relu', name='conv3')(x)\n",
    "    x = MaxPooling2D((2, 2), strides=(2, 2), padding='valid', name='pool3')(x)\n",
    "    x = Conv2D(128, (5, 5), strides=(1, 1), padding='same', activation='relu', name='conv4')(x)\n",
    "    x = MaxPooling2D((2, 2), strides=(2, 2), padding='valid', name='pool4')(x)\n",
    "    x = Flatten()(x)\n",
    "    x = Dense(1024, activation='relu', name='fcl1')(x)\n",
    "    x = Dropout(0.2)(x)\n",
    "    x = Dense(256, activation='relu', name='fcl2')(x)\n",
    "    x = Dropout(0.2)(x)\n",
    "    out = Dense(num_classes, activation='softmax', name='predictions')(x)\n",
    "    rez = Model(inputs=img_input, outputs=out)\n",
    "    return rez\n",
    "\n",
    "\n",
    "def network19(input_shape, num_classes):\n",
    "    # Laden des VGG19 Modells\n",
    "    vgg19_model = VGG19(weights='imagenet', include_top=False, input_shape=input_shape)\n",
    "\n",
    "    # Setzen der Trainingparameter auf False\n",
    "    for layer in vgg19_model.layers:\n",
    "        layer.trainable = False\n",
    "\n",
    "    img_input = Input(shape=input_shape, name='data')\n",
    "    x = Lambda(convert_to_hsv_and_grayscale)(img_input)\n",
    "\n",
    "    # Behalte nur die ersten drei Kanäle bei\n",
    "    x = Lambda(lambda x: x[:, :, :, :3])(x)\n",
    "\n",
    "    # Hinzufügen von VGG19 zu deinem Modell\n",
    "    x = vgg19_model(x)\n",
    "\n",
    "    x = Flatten()(x)\n",
    "    x = Dense(1024, activation='relu', name='fcl1')(x)\n",
    "    x = Dropout(0.2)(x)\n",
    "    x = Dense(256, activation='relu', name='fcl2')(x)\n",
    "    x = Dropout(0.2)(x)\n",
    "    out = Dense(num_classes, activation='softmax', name='predictions')(x)\n",
    "    model = Model(inputs=img_input, outputs=out)\n",
    "    return model\n",
    "\n",
    "\n",
    "def plot_model_history(model_history: object, out_path=\"\"):\n",
    "    \"\"\"\n",
    "    Plot the accuracy and loss history of a model.\n",
    "\n",
    "    :param model_history: The history object of a trained model.\n",
    "    :type model_history: object\n",
    "    :param out_path: The directory to save the plot. If not provided, the plot will be displayed instead.\n",
    "    :type out_path: str\n",
    "    :return: None\n",
    "    :rtype: None\n",
    "    \"\"\"\n",
    "    fig, axs = plt.subplots(1, 2)\n",
    "    # summarize history for accuracy\n",
    "    axs[0].plot(range(1, len(model_history.history['accuracy']) + 1), model_history.history['accuracy'])\n",
    "    axs[0].plot(range(1, len(model_history.history.get('val_accuracy', [])) + 1),\n",
    "                model_history.history.get('val_accuracy', []))\n",
    "    axs[0].set_title('Model Accuracy')\n",
    "    axs[0].set_ylabel('Accuracy')\n",
    "    axs[0].set_xlabel('Epoch')\n",
    "    axs[0].set_xticks(range(1, len(model_history.history['accuracy']) + 1))\n",
    "    axs[0].legend(['train', 'val'], loc='best')\n",
    "    # summarize history for loss\n",
    "    axs[1].plot(range(1, len(model_history.history['loss']) + 1), model_history.history['loss'])\n",
    "    axs[1].plot(range(1, len(model_history.history.get('val_loss', [])) + 1), model_history.history.get('val_loss', []))\n",
    "    axs[1].set_title('Model Loss')\n",
    "    axs[1].set_ylabel('Loss')\n",
    "    axs[1].set_xlabel('Epoch')\n",
    "    axs[1].set_xticks(range(1, len(model_history.history['loss']) + 1))\n",
    "    axs[1].legend(['train', 'val'], loc='best')\n",
    "    # save the graph in a file called \"acc_loss.png\" to be available for later; the model_name is provided when creating and training a model\n",
    "    if out_path:\n",
    "        plt.savefig(out_path + \"/acc_loss.png\")\n",
    "    plt.show()\n",
    "\n",
    "\n",
    "# create a confusion matrix to visually represent incorrectly classified images\n",
    "def plot_confusion_matrix(y_true, y_pred, classes, out_path=\"\"):\n",
    "    cm = confusion_matrix(y_true, y_pred)\n",
    "    df_cm = pd.DataFrame(cm, index=[i for i in classes], columns=[i for i in classes])\n",
    "    plt.figure(figsize=(40, 40))\n",
    "    ax = sn.heatmap(df_cm, annot=True, square=True, fmt=\"d\", linewidths=.2, cbar_kws={\"shrink\": 0.8})\n",
    "    if out_path:\n",
    "        plt.savefig(\n",
    "            out_path + \"/confusion_matrix.png\")  # as in the plot_model_history, the matrix is saved in a file called \"model_name_confusion_matrix.png\"\n",
    "    return ax\n",
    "\n",
    "\n",
    "@tf.function\n",
    "def augment_image(x):\n",
    "    x = tf.image.random_saturation(x, 0.9, 1.2)\n",
    "    x = tf.image.random_hue(x, 0.02)\n",
    "    return x\n",
    "\n",
    "\n",
    "def build_data_generators(train_folder, test_folder, validation_percent, labels=None, image_size=(100, 100),\n",
    "                          batch_size=50):\n",
    "    \"\"\"\n",
    "    Build data generators for training, validation, and testing.\n",
    "\n",
    "    :param train_folder: The path to the training data folder.\n",
    "    :type train_folder: str\n",
    "    :param test_folder: The path to the testing data folder.\n",
    "    :type test_folder: str\n",
    "    :param validation_percent: The percentage indicating how much of the training set\n",
    "        should be kept for validation.\n",
    "    :type validation_percent: float\n",
    "    :param labels: The list of labels. Default is None.\n",
    "    :type labels: list or None\n",
    "    :param image_size: The target size of the images. Default is (100, 100).\n",
    "    :type image_size: tuple\n",
    "    :param batch_size: The number of samples per batch. Default is 50.\n",
    "    :type batch_size: int\n",
    "    :return: The data generators for training, validation, and testing.\n",
    "    :rtype: tuple\n",
    "    \"\"\"\n",
    "    train_datagen = ImageDataGenerator(\n",
    "        width_shift_range=0.0,\n",
    "        height_shift_range=0.0,\n",
    "        zoom_range=0.0,\n",
    "        horizontal_flip=True,\n",
    "        vertical_flip=True,  # randomly flip images\n",
    "        preprocessing_function=augment_image,\n",
    "        validation_split=validation_percent)  # percentage indicating how much of the training set should be kept for validation\n",
    "\n",
    "    test_datagen = ImageDataGenerator()\n",
    "\n",
    "    train_gen = train_datagen.flow_from_directory(train_folder, target_size=image_size, class_mode='sparse',\n",
    "                                                  batch_size=batch_size, shuffle=True, subset='training',\n",
    "                                                  classes=labels)\n",
    "    validation_gen = train_datagen.flow_from_directory(train_folder, target_size=image_size, class_mode='sparse',\n",
    "                                                       batch_size=batch_size, shuffle=False, subset='validation',\n",
    "                                                       classes=labels)\n",
    "    test_gen = test_datagen.flow_from_directory(test_folder, target_size=image_size, class_mode='sparse',\n",
    "                                                batch_size=batch_size, shuffle=False, subset=None, classes=labels)\n",
    "    return train_gen, validation_gen, test_gen\n",
    "\n",
    "class CustomModelCheckpoint(Callback):\n",
    "\n",
    "    def __init__(self, filepath, monitor='accuracy', verbose=1, mode='max', save_best_only=True):\n",
    "        super().__init__()\n",
    "        self.filepath = filepath\n",
    "        self.monitor = monitor\n",
    "        self.verbose = verbose\n",
    "        self.mode = mode\n",
    "        self.save_best_only = save_best_only\n",
    "        if self.save_best_only:\n",
    "            if self.mode == 'min':\n",
    "                self.best = np.Inf\n",
    "            elif self.mode == 'max':\n",
    "                self.best = -np.Inf\n",
    "\n",
    "    def on_epoch_end(self, epoch, logs=None):\n",
    "        print(f\"Logs during epoch end {logs}\")\n",
    "        current_value = logs.get(self.monitor)\n",
    "        self.best = current_value\n",
    "        self.model.save(self.filepath)\n",
    "        print(f\"Model saved successfully at {self.filepath}\")\n",
    "\n",
    "# this method performs all the steps from data setup, training and testing the model and plotting the results\n",
    "# the model is any trainable model; the input shape and output number of classes is dependant on the dataset used, in this case the input is 100x100 RGB images and the output is a softmax layer with 118 probabilities\n",
    "# the name is used to save the classification report containing the f1 score of the model, the plots showing the loss and accuracy and the confusion matrix\n",
    "# the batch size is used to determine the number of images passed through the network at once, the number of steps per epochs is derived from this as (total number of images in set // batch size) + 1\n",
    "def train_and_evaluate_model(model, name=\"\", epochs=30, batch_size=100, verbose=1, useCkpt=False):\n",
    "    print(model.summary())\n",
    "    model_out_dir = os.path.join(output_dir, name)\n",
    "    \n",
    "    folder = model_out_dir\n",
    "    for filename in os.listdir(folder):\n",
    "        file_path = os.path.join(folder, filename)\n",
    "        try:\n",
    "            if os.path.isfile(file_path) or os.path.islink(file_path):\n",
    "                os.unlink(file_path)\n",
    "            elif os.path.isdir(file_path):\n",
    "                shutil.rmtree(file_path)\n",
    "        except Exception as e:\n",
    "            print('Failed to delete %s. Reason: %s' % (file_path, e))\n",
    "    \n",
    "    if not os.path.exists(model_out_dir):\n",
    "        os.makedirs(model_out_dir)\n",
    "    if useCkpt:\n",
    "        load_model(model_out_dir + \"/model.tf\")\n",
    "\n",
    "    trainGen, validationGen, testGen = build_data_generators(train_dir, test_dir, validation_percent=0.1, labels=labels,\n",
    "                                                             image_size=image_size, batch_size=batch_size)\n",
    "    optimizer = Adadelta(learning_rate=learning_rate)\n",
    "    model.compile(optimizer=optimizer, loss=\"sparse_categorical_crossentropy\", metrics=['accuracy'])\n",
    "    learning_rate_reduction = ReduceLROnPlateau(monitor='val_loss', patience=patience, verbose=verbose,\n",
    "                                                factor=learning_rate_reduction_factor, min_lr=min_learning_rate)\n",
    "    \n",
    "    print(f\"Model will be saved in: {model_out_dir}\")\n",
    "    print(\"Does the output directory exist?\", os.path.isdir(model_out_dir))\n",
    "    \n",
    "    save_model = CustomModelCheckpoint(filepath=model_out_dir + \"/model.tf\", monitor='accuracy', verbose=verbose, mode='max', save_best_only=False)\n",
    "\n",
    "    history = model.fit(trainGen,\n",
    "                        epochs=epochs,\n",
    "                        steps_per_epoch=(trainGen.n // batch_size) + 1,\n",
    "                        validation_data=validationGen,\n",
    "                        validation_steps=(validationGen.n // batch_size) + 1,\n",
    "                        verbose=0,\n",
    "                        callbacks=[learning_rate_reduction, save_model, TqdmCallback(verbose=1)])\n",
    "\n",
    "    print(os.path.exists(model_out_dir + \"/model.tf\"))\n",
    "    print(os.getcwd()) \n",
    "\n",
    "    try:\n",
    "        model_path = model_out_dir + \"/model.tf\"\n",
    "        print(f\"Trying to load the model from: {model_path}\")\n",
    "        loaded_model = load_model(model_path)\n",
    "    except Exception as e:\n",
    "        print(\"Exception occurred while loading the model\")\n",
    "        print(e)\n",
    "\n",
    "    validationGen.reset()\n",
    "    loss_v, accuracy_v = model.evaluate(validationGen, steps=(validationGen.n // batch_size) + 1, verbose=verbose)\n",
    "    loss, accuracy = model.evaluate(testGen, steps=(testGen.n // batch_size) + 1, verbose=verbose)\n",
    "    print(\"Validation: accuracy = %f  ;  loss_v = %f\" % (accuracy_v, loss_v))\n",
    "    print(\"Test: accuracy = %f  ;  loss_v = %f\" % (accuracy, loss))\n",
    "    \n",
    "    try:\n",
    "        plot_model_history(history, out_path=model_out_dir)\n",
    "    except Exception as e:\n",
    "        print(f\"An error occurred while plotting model history: {e}\")\n",
    "    testGen.reset()\n",
    "    y_pred = model.predict(testGen, steps=(testGen.n // batch_size) + 1, verbose=verbose)\n",
    "    y_true = testGen.classes[testGen.index_array]\n",
    "    try:\n",
    "        plot_confusion_matrix(y_true, y_pred.argmax(axis=-1), labels, out_path=model_out_dir)\n",
    "    except Exception as e:\n",
    "        print(f\"An error occurred while plotting confusion matrix: {e}\")\n",
    "    class_report = classification_report(y_true, y_pred.argmax(axis=-1), target_names=labels)\n",
    "\n",
    "    with open(model_out_dir + \"/classification_report.txt\", \"w\") as text_file:\n",
    "        text_file.write(\"%s\" % class_report)\n",
    "    # print(class_report)\n"
   ],
   "metadata": {
    "collapsed": false,
    "ExecuteTime": {
     "end_time": "2024-01-19T18:05:53.311082Z",
     "start_time": "2024-01-19T18:05:53.164102Z"
    }
   },
   "execution_count": 4
  },
  {
   "cell_type": "markdown",
   "metadata": {
    "collapsed": false
   },
   "source": [
    "Generate structural data and labels"
   ]
  },
  {
   "cell_type": "code",
   "execution_count": 5,
   "metadata": {
    "collapsed": false,
    "ExecuteTime": {
     "end_time": "2024-01-19T18:05:56.190829100Z",
     "start_time": "2024-01-19T18:05:56.102281200Z"
    }
   },
   "outputs": [
    {
     "name": "stdout",
     "output_type": "stream",
     "text": [
      "['Apple Braeburn', 'Orange', 'Plum']\n",
      "3\n"
     ]
    }
   ],
   "source": [
    "import pandas as pd\n",
    "import seaborn as sn\n",
    "import os\n",
    "\n",
    "from sklearn.metrics import confusion_matrix, classification_report\n",
    "\n",
    "if not os.path.exists(output_dir):\n",
    "    os.makedirs(output_dir)\n",
    "\n",
    "if use_label_file:\n",
    "    with open(label_file, \"r\") as f:\n",
    "        labels = [x.strip() for x in f.readlines()]\n",
    "else:\n",
    "    labels = os.listdir(train_dir)\n",
    "num_classes = len(labels)\n",
    "\n",
    "print(labels)\n",
    "print(num_classes)"
   ]
  },
  {
   "cell_type": "code",
   "execution_count": 6,
   "metadata": {
    "pycharm": {
     "is_executing": false
    },
    "ExecuteTime": {
     "end_time": "2024-01-19T18:08:44.133723400Z",
     "start_time": "2024-01-19T18:05:57.425113200Z"
    }
   },
   "outputs": [
    {
     "name": "stdout",
     "output_type": "stream",
     "text": [
      "Model: \"model_1\"\n",
      "_________________________________________________________________\n",
      " Layer (type)                Output Shape              Param #   \n",
      "=================================================================\n",
      " data (InputLayer)           [(None, 100, 100, 3)]     0         \n",
      "                                                                 \n",
      " lambda_1 (Lambda)           (None, 100, 100, 4)       0         \n",
      "                                                                 \n",
      " conv1 (Conv2D)              (None, 100, 100, 16)      1616      \n",
      "                                                                 \n",
      " pool1 (MaxPooling2D)        (None, 50, 50, 16)        0         \n",
      "                                                                 \n",
      " conv2 (Conv2D)              (None, 50, 50, 32)        12832     \n",
      "                                                                 \n",
      " pool2 (MaxPooling2D)        (None, 25, 25, 32)        0         \n",
      "                                                                 \n",
      " conv3 (Conv2D)              (None, 25, 25, 64)        51264     \n",
      "                                                                 \n",
      " pool3 (MaxPooling2D)        (None, 12, 12, 64)        0         \n",
      "                                                                 \n",
      " conv4 (Conv2D)              (None, 12, 12, 128)       204928    \n",
      "                                                                 \n",
      " pool4 (MaxPooling2D)        (None, 6, 6, 128)         0         \n",
      "                                                                 \n",
      " flatten_1 (Flatten)         (None, 4608)              0         \n",
      "                                                                 \n",
      " fcl1 (Dense)                (None, 1024)              4719616   \n",
      "                                                                 \n",
      " dropout_2 (Dropout)         (None, 1024)              0         \n",
      "                                                                 \n",
      " fcl2 (Dense)                (None, 256)               262400    \n",
      "                                                                 \n",
      " dropout_3 (Dropout)         (None, 256)               0         \n",
      "                                                                 \n",
      " predictions (Dense)         (None, 3)                 771       \n",
      "                                                                 \n",
      "=================================================================\n",
      "Total params: 5253427 (20.04 MB)\n",
      "Trainable params: 5253427 (20.04 MB)\n",
      "Non-trainable params: 0 (0.00 Byte)\n",
      "_________________________________________________________________\n",
      "None\n",
      "Found 1278 images belonging to 3 classes.\n",
      "Found 140 images belonging to 3 classes.\n",
      "Found 475 images belonging to 3 classes.\n",
      "Model will be saved in: output_files/fruit-360-model-gpu-30ep-100ba-reduced-labels\n",
      "Does the output directory exist? True\n"
     ]
    },
    {
     "data": {
      "text/plain": "0epoch [00:00, ?epoch/s]",
      "application/vnd.jupyter.widget-view+json": {
       "version_major": 2,
       "version_minor": 0,
       "model_id": "1668556711174416beaba16962e822ca"
      }
     },
     "metadata": {},
     "output_type": "display_data"
    },
    {
     "data": {
      "text/plain": "0batch [00:00, ?batch/s]",
      "application/vnd.jupyter.widget-view+json": {
       "version_major": 2,
       "version_minor": 0,
       "model_id": "5ce1c3ae23af4201b4bac161f960e898"
      }
     },
     "metadata": {},
     "output_type": "display_data"
    },
    {
     "name": "stdout",
     "output_type": "stream",
     "text": [
      "Logs during epoch end {'loss': 8.725595474243164, 'accuracy': 0.5203443169593811, 'val_loss': 0.02069980278611183, 'val_accuracy': 1.0, 'lr': 0.1}\n",
      "INFO:tensorflow:Assets written to: output_files/fruit-360-model-gpu-30ep-100ba-reduced-labels/model.tf/assets\n"
     ]
    },
    {
     "name": "stderr",
     "output_type": "stream",
     "text": [
      "INFO:tensorflow:Assets written to: output_files/fruit-360-model-gpu-30ep-100ba-reduced-labels/model.tf/assets\n"
     ]
    },
    {
     "name": "stdout",
     "output_type": "stream",
     "text": [
      "Model saved successfully at output_files/fruit-360-model-gpu-30ep-100ba-reduced-labels/model.tf\n",
      "Logs during epoch end {'loss': 0.8613081574440002, 'accuracy': 0.770735502243042, 'val_loss': 0.008750645443797112, 'val_accuracy': 1.0, 'lr': 0.1}\n",
      "INFO:tensorflow:Assets written to: output_files/fruit-360-model-gpu-30ep-100ba-reduced-labels/model.tf/assets\n"
     ]
    },
    {
     "name": "stderr",
     "output_type": "stream",
     "text": [
      "INFO:tensorflow:Assets written to: output_files/fruit-360-model-gpu-30ep-100ba-reduced-labels/model.tf/assets\n"
     ]
    },
    {
     "name": "stdout",
     "output_type": "stream",
     "text": [
      "Model saved successfully at output_files/fruit-360-model-gpu-30ep-100ba-reduced-labels/model.tf\n",
      "Logs during epoch end {'loss': 0.4093676209449768, 'accuracy': 0.8568075299263, 'val_loss': 0.0021849973127245903, 'val_accuracy': 1.0, 'lr': 0.1}\n",
      "INFO:tensorflow:Assets written to: output_files/fruit-360-model-gpu-30ep-100ba-reduced-labels/model.tf/assets\n"
     ]
    },
    {
     "name": "stderr",
     "output_type": "stream",
     "text": [
      "INFO:tensorflow:Assets written to: output_files/fruit-360-model-gpu-30ep-100ba-reduced-labels/model.tf/assets\n"
     ]
    },
    {
     "name": "stdout",
     "output_type": "stream",
     "text": [
      "Model saved successfully at output_files/fruit-360-model-gpu-30ep-100ba-reduced-labels/model.tf\n",
      "Logs during epoch end {'loss': 0.1867040991783142, 'accuracy': 0.9287949800491333, 'val_loss': 0.006879307329654694, 'val_accuracy': 1.0, 'lr': 0.1}\n",
      "INFO:tensorflow:Assets written to: output_files/fruit-360-model-gpu-30ep-100ba-reduced-labels/model.tf/assets\n"
     ]
    },
    {
     "name": "stderr",
     "output_type": "stream",
     "text": [
      "INFO:tensorflow:Assets written to: output_files/fruit-360-model-gpu-30ep-100ba-reduced-labels/model.tf/assets\n"
     ]
    },
    {
     "name": "stdout",
     "output_type": "stream",
     "text": [
      "Model saved successfully at output_files/fruit-360-model-gpu-30ep-100ba-reduced-labels/model.tf\n",
      "Logs during epoch end {'loss': 0.129080668091774, 'accuracy': 0.9491392970085144, 'val_loss': 0.0003279839875176549, 'val_accuracy': 1.0, 'lr': 0.1}\n",
      "INFO:tensorflow:Assets written to: output_files/fruit-360-model-gpu-30ep-100ba-reduced-labels/model.tf/assets\n"
     ]
    },
    {
     "name": "stderr",
     "output_type": "stream",
     "text": [
      "INFO:tensorflow:Assets written to: output_files/fruit-360-model-gpu-30ep-100ba-reduced-labels/model.tf/assets\n"
     ]
    },
    {
     "name": "stdout",
     "output_type": "stream",
     "text": [
      "Model saved successfully at output_files/fruit-360-model-gpu-30ep-100ba-reduced-labels/model.tf\n",
      "Logs during epoch end {'loss': 0.3038620352745056, 'accuracy': 0.9107981324195862, 'val_loss': 0.017996376380324364, 'val_accuracy': 0.9928571581840515, 'lr': 0.1}\n",
      "INFO:tensorflow:Assets written to: output_files/fruit-360-model-gpu-30ep-100ba-reduced-labels/model.tf/assets\n"
     ]
    },
    {
     "name": "stderr",
     "output_type": "stream",
     "text": [
      "INFO:tensorflow:Assets written to: output_files/fruit-360-model-gpu-30ep-100ba-reduced-labels/model.tf/assets\n"
     ]
    },
    {
     "name": "stdout",
     "output_type": "stream",
     "text": [
      "Model saved successfully at output_files/fruit-360-model-gpu-30ep-100ba-reduced-labels/model.tf\n",
      "Logs during epoch end {'loss': 0.07390149682760239, 'accuracy': 0.9741784334182739, 'val_loss': 0.0014325670199468732, 'val_accuracy': 1.0, 'lr': 0.1}\n",
      "INFO:tensorflow:Assets written to: output_files/fruit-360-model-gpu-30ep-100ba-reduced-labels/model.tf/assets\n"
     ]
    },
    {
     "name": "stderr",
     "output_type": "stream",
     "text": [
      "INFO:tensorflow:Assets written to: output_files/fruit-360-model-gpu-30ep-100ba-reduced-labels/model.tf/assets\n"
     ]
    },
    {
     "name": "stdout",
     "output_type": "stream",
     "text": [
      "Model saved successfully at output_files/fruit-360-model-gpu-30ep-100ba-reduced-labels/model.tf\n",
      "\n",
      "Epoch 8: ReduceLROnPlateau reducing learning rate to 0.05000000074505806.\n",
      "Logs during epoch end {'loss': 0.071824811398983, 'accuracy': 0.9757433533668518, 'val_loss': 0.0007024258375167847, 'val_accuracy': 1.0, 'lr': 0.1}\n",
      "INFO:tensorflow:Assets written to: output_files/fruit-360-model-gpu-30ep-100ba-reduced-labels/model.tf/assets\n"
     ]
    },
    {
     "name": "stderr",
     "output_type": "stream",
     "text": [
      "INFO:tensorflow:Assets written to: output_files/fruit-360-model-gpu-30ep-100ba-reduced-labels/model.tf/assets\n"
     ]
    },
    {
     "name": "stdout",
     "output_type": "stream",
     "text": [
      "Model saved successfully at output_files/fruit-360-model-gpu-30ep-100ba-reduced-labels/model.tf\n",
      "Logs during epoch end {'loss': 0.03737223148345947, 'accuracy': 0.9882628917694092, 'val_loss': 0.0002861768880393356, 'val_accuracy': 1.0, 'lr': 0.05}\n",
      "INFO:tensorflow:Assets written to: output_files/fruit-360-model-gpu-30ep-100ba-reduced-labels/model.tf/assets\n"
     ]
    },
    {
     "name": "stderr",
     "output_type": "stream",
     "text": [
      "INFO:tensorflow:Assets written to: output_files/fruit-360-model-gpu-30ep-100ba-reduced-labels/model.tf/assets\n"
     ]
    },
    {
     "name": "stdout",
     "output_type": "stream",
     "text": [
      "Model saved successfully at output_files/fruit-360-model-gpu-30ep-100ba-reduced-labels/model.tf\n",
      "Logs during epoch end {'loss': 0.025666996836662292, 'accuracy': 0.9929577708244324, 'val_loss': 0.00011468991579022259, 'val_accuracy': 1.0, 'lr': 0.05}\n",
      "INFO:tensorflow:Assets written to: output_files/fruit-360-model-gpu-30ep-100ba-reduced-labels/model.tf/assets\n"
     ]
    },
    {
     "name": "stderr",
     "output_type": "stream",
     "text": [
      "INFO:tensorflow:Assets written to: output_files/fruit-360-model-gpu-30ep-100ba-reduced-labels/model.tf/assets\n"
     ]
    },
    {
     "name": "stdout",
     "output_type": "stream",
     "text": [
      "Model saved successfully at output_files/fruit-360-model-gpu-30ep-100ba-reduced-labels/model.tf\n",
      "Logs during epoch end {'loss': 0.0218702033162117, 'accuracy': 0.9953051805496216, 'val_loss': 0.0005405896226875484, 'val_accuracy': 1.0, 'lr': 0.05}\n",
      "INFO:tensorflow:Assets written to: output_files/fruit-360-model-gpu-30ep-100ba-reduced-labels/model.tf/assets\n"
     ]
    },
    {
     "name": "stderr",
     "output_type": "stream",
     "text": [
      "INFO:tensorflow:Assets written to: output_files/fruit-360-model-gpu-30ep-100ba-reduced-labels/model.tf/assets\n"
     ]
    },
    {
     "name": "stdout",
     "output_type": "stream",
     "text": [
      "Model saved successfully at output_files/fruit-360-model-gpu-30ep-100ba-reduced-labels/model.tf\n",
      "Logs during epoch end {'loss': 0.020514987409114838, 'accuracy': 0.9937402009963989, 'val_loss': 0.00010832710540853441, 'val_accuracy': 1.0, 'lr': 0.05}\n",
      "INFO:tensorflow:Assets written to: output_files/fruit-360-model-gpu-30ep-100ba-reduced-labels/model.tf/assets\n"
     ]
    },
    {
     "name": "stderr",
     "output_type": "stream",
     "text": [
      "INFO:tensorflow:Assets written to: output_files/fruit-360-model-gpu-30ep-100ba-reduced-labels/model.tf/assets\n"
     ]
    },
    {
     "name": "stdout",
     "output_type": "stream",
     "text": [
      "Model saved successfully at output_files/fruit-360-model-gpu-30ep-100ba-reduced-labels/model.tf\n",
      "\n",
      "Epoch 13: ReduceLROnPlateau reducing learning rate to 0.02500000037252903.\n",
      "Logs during epoch end {'loss': 0.03945416957139969, 'accuracy': 0.98591548204422, 'val_loss': 0.4751405417919159, 'val_accuracy': 0.7785714268684387, 'lr': 0.05}\n",
      "INFO:tensorflow:Assets written to: output_files/fruit-360-model-gpu-30ep-100ba-reduced-labels/model.tf/assets\n"
     ]
    },
    {
     "name": "stderr",
     "output_type": "stream",
     "text": [
      "INFO:tensorflow:Assets written to: output_files/fruit-360-model-gpu-30ep-100ba-reduced-labels/model.tf/assets\n"
     ]
    },
    {
     "name": "stdout",
     "output_type": "stream",
     "text": [
      "Model saved successfully at output_files/fruit-360-model-gpu-30ep-100ba-reduced-labels/model.tf\n",
      "Logs during epoch end {'loss': 0.11974481493234634, 'accuracy': 0.9702660441398621, 'val_loss': 0.00015442581207025796, 'val_accuracy': 1.0, 'lr': 0.025}\n",
      "INFO:tensorflow:Assets written to: output_files/fruit-360-model-gpu-30ep-100ba-reduced-labels/model.tf/assets\n"
     ]
    },
    {
     "name": "stderr",
     "output_type": "stream",
     "text": [
      "INFO:tensorflow:Assets written to: output_files/fruit-360-model-gpu-30ep-100ba-reduced-labels/model.tf/assets\n"
     ]
    },
    {
     "name": "stdout",
     "output_type": "stream",
     "text": [
      "Model saved successfully at output_files/fruit-360-model-gpu-30ep-100ba-reduced-labels/model.tf\n",
      "Logs during epoch end {'loss': 0.0164414644241333, 'accuracy': 0.9929577708244324, 'val_loss': 0.00011970719060627744, 'val_accuracy': 1.0, 'lr': 0.025}\n",
      "INFO:tensorflow:Assets written to: output_files/fruit-360-model-gpu-30ep-100ba-reduced-labels/model.tf/assets\n"
     ]
    },
    {
     "name": "stderr",
     "output_type": "stream",
     "text": [
      "INFO:tensorflow:Assets written to: output_files/fruit-360-model-gpu-30ep-100ba-reduced-labels/model.tf/assets\n"
     ]
    },
    {
     "name": "stdout",
     "output_type": "stream",
     "text": [
      "Model saved successfully at output_files/fruit-360-model-gpu-30ep-100ba-reduced-labels/model.tf\n",
      "\n",
      "Epoch 16: ReduceLROnPlateau reducing learning rate to 0.012500000186264515.\n",
      "Logs during epoch end {'loss': 0.014884069561958313, 'accuracy': 0.9953051805496216, 'val_loss': 6.941507308511063e-05, 'val_accuracy': 1.0, 'lr': 0.025}\n",
      "INFO:tensorflow:Assets written to: output_files/fruit-360-model-gpu-30ep-100ba-reduced-labels/model.tf/assets\n"
     ]
    },
    {
     "name": "stderr",
     "output_type": "stream",
     "text": [
      "INFO:tensorflow:Assets written to: output_files/fruit-360-model-gpu-30ep-100ba-reduced-labels/model.tf/assets\n"
     ]
    },
    {
     "name": "stdout",
     "output_type": "stream",
     "text": [
      "Model saved successfully at output_files/fruit-360-model-gpu-30ep-100ba-reduced-labels/model.tf\n",
      "Logs during epoch end {'loss': 0.015605750493705273, 'accuracy': 0.9945226907730103, 'val_loss': 0.0001259019336430356, 'val_accuracy': 1.0, 'lr': 0.0125}\n",
      "INFO:tensorflow:Assets written to: output_files/fruit-360-model-gpu-30ep-100ba-reduced-labels/model.tf/assets\n"
     ]
    },
    {
     "name": "stderr",
     "output_type": "stream",
     "text": [
      "INFO:tensorflow:Assets written to: output_files/fruit-360-model-gpu-30ep-100ba-reduced-labels/model.tf/assets\n"
     ]
    },
    {
     "name": "stdout",
     "output_type": "stream",
     "text": [
      "Model saved successfully at output_files/fruit-360-model-gpu-30ep-100ba-reduced-labels/model.tf\n",
      "Logs during epoch end {'loss': 0.012777729891240597, 'accuracy': 0.9976525902748108, 'val_loss': 0.00017239440057892352, 'val_accuracy': 1.0, 'lr': 0.0125}\n",
      "INFO:tensorflow:Assets written to: output_files/fruit-360-model-gpu-30ep-100ba-reduced-labels/model.tf/assets\n"
     ]
    },
    {
     "name": "stderr",
     "output_type": "stream",
     "text": [
      "INFO:tensorflow:Assets written to: output_files/fruit-360-model-gpu-30ep-100ba-reduced-labels/model.tf/assets\n"
     ]
    },
    {
     "name": "stdout",
     "output_type": "stream",
     "text": [
      "Model saved successfully at output_files/fruit-360-model-gpu-30ep-100ba-reduced-labels/model.tf\n",
      "\n",
      "Epoch 19: ReduceLROnPlateau reducing learning rate to 0.0062500000931322575.\n",
      "Logs during epoch end {'loss': 0.011411087587475777, 'accuracy': 0.9968701004981995, 'val_loss': 5.466125003295019e-05, 'val_accuracy': 1.0, 'lr': 0.0125}\n",
      "INFO:tensorflow:Assets written to: output_files/fruit-360-model-gpu-30ep-100ba-reduced-labels/model.tf/assets\n"
     ]
    },
    {
     "name": "stderr",
     "output_type": "stream",
     "text": [
      "INFO:tensorflow:Assets written to: output_files/fruit-360-model-gpu-30ep-100ba-reduced-labels/model.tf/assets\n"
     ]
    },
    {
     "name": "stdout",
     "output_type": "stream",
     "text": [
      "Model saved successfully at output_files/fruit-360-model-gpu-30ep-100ba-reduced-labels/model.tf\n",
      "Logs during epoch end {'loss': 0.008114347234368324, 'accuracy': 0.9992175102233887, 'val_loss': 5.2268023864598945e-05, 'val_accuracy': 1.0, 'lr': 0.00625}\n",
      "INFO:tensorflow:Assets written to: output_files/fruit-360-model-gpu-30ep-100ba-reduced-labels/model.tf/assets\n"
     ]
    },
    {
     "name": "stderr",
     "output_type": "stream",
     "text": [
      "INFO:tensorflow:Assets written to: output_files/fruit-360-model-gpu-30ep-100ba-reduced-labels/model.tf/assets\n"
     ]
    },
    {
     "name": "stdout",
     "output_type": "stream",
     "text": [
      "Model saved successfully at output_files/fruit-360-model-gpu-30ep-100ba-reduced-labels/model.tf\n",
      "Logs during epoch end {'loss': 0.007240902632474899, 'accuracy': 0.9992175102233887, 'val_loss': 3.26032422890421e-05, 'val_accuracy': 1.0, 'lr': 0.00625}\n",
      "INFO:tensorflow:Assets written to: output_files/fruit-360-model-gpu-30ep-100ba-reduced-labels/model.tf/assets\n"
     ]
    },
    {
     "name": "stderr",
     "output_type": "stream",
     "text": [
      "INFO:tensorflow:Assets written to: output_files/fruit-360-model-gpu-30ep-100ba-reduced-labels/model.tf/assets\n"
     ]
    },
    {
     "name": "stdout",
     "output_type": "stream",
     "text": [
      "Model saved successfully at output_files/fruit-360-model-gpu-30ep-100ba-reduced-labels/model.tf\n",
      "\n",
      "Epoch 22: ReduceLROnPlateau reducing learning rate to 0.0031250000465661287.\n",
      "Logs during epoch end {'loss': 0.009367313235998154, 'accuracy': 0.9960876107215881, 'val_loss': 0.00011268153320997953, 'val_accuracy': 1.0, 'lr': 0.00625}\n",
      "INFO:tensorflow:Assets written to: output_files/fruit-360-model-gpu-30ep-100ba-reduced-labels/model.tf/assets\n"
     ]
    },
    {
     "name": "stderr",
     "output_type": "stream",
     "text": [
      "INFO:tensorflow:Assets written to: output_files/fruit-360-model-gpu-30ep-100ba-reduced-labels/model.tf/assets\n"
     ]
    },
    {
     "name": "stdout",
     "output_type": "stream",
     "text": [
      "Model saved successfully at output_files/fruit-360-model-gpu-30ep-100ba-reduced-labels/model.tf\n",
      "Logs during epoch end {'loss': 0.007077202200889587, 'accuracy': 1.0, 'val_loss': 4.2338899220339954e-05, 'val_accuracy': 1.0, 'lr': 0.003125}\n",
      "INFO:tensorflow:Assets written to: output_files/fruit-360-model-gpu-30ep-100ba-reduced-labels/model.tf/assets\n"
     ]
    },
    {
     "name": "stderr",
     "output_type": "stream",
     "text": [
      "INFO:tensorflow:Assets written to: output_files/fruit-360-model-gpu-30ep-100ba-reduced-labels/model.tf/assets\n"
     ]
    },
    {
     "name": "stdout",
     "output_type": "stream",
     "text": [
      "Model saved successfully at output_files/fruit-360-model-gpu-30ep-100ba-reduced-labels/model.tf\n",
      "Logs during epoch end {'loss': 0.00690903514623642, 'accuracy': 0.9992175102233887, 'val_loss': 3.7664445699192584e-05, 'val_accuracy': 1.0, 'lr': 0.003125}\n",
      "INFO:tensorflow:Assets written to: output_files/fruit-360-model-gpu-30ep-100ba-reduced-labels/model.tf/assets\n"
     ]
    },
    {
     "name": "stderr",
     "output_type": "stream",
     "text": [
      "INFO:tensorflow:Assets written to: output_files/fruit-360-model-gpu-30ep-100ba-reduced-labels/model.tf/assets\n"
     ]
    },
    {
     "name": "stdout",
     "output_type": "stream",
     "text": [
      "Model saved successfully at output_files/fruit-360-model-gpu-30ep-100ba-reduced-labels/model.tf\n",
      "\n",
      "Epoch 25: ReduceLROnPlateau reducing learning rate to 0.0015625000232830644.\n",
      "Logs during epoch end {'loss': 0.005521978717297316, 'accuracy': 0.9984350800514221, 'val_loss': 3.1731757189845666e-05, 'val_accuracy': 1.0, 'lr': 0.003125}\n",
      "INFO:tensorflow:Assets written to: output_files/fruit-360-model-gpu-30ep-100ba-reduced-labels/model.tf/assets\n"
     ]
    },
    {
     "name": "stderr",
     "output_type": "stream",
     "text": [
      "INFO:tensorflow:Assets written to: output_files/fruit-360-model-gpu-30ep-100ba-reduced-labels/model.tf/assets\n"
     ]
    },
    {
     "name": "stdout",
     "output_type": "stream",
     "text": [
      "Model saved successfully at output_files/fruit-360-model-gpu-30ep-100ba-reduced-labels/model.tf\n",
      "Logs during epoch end {'loss': 0.007830633781850338, 'accuracy': 0.9984350800514221, 'val_loss': 6.783947901567444e-05, 'val_accuracy': 1.0, 'lr': 0.0015625}\n",
      "INFO:tensorflow:Assets written to: output_files/fruit-360-model-gpu-30ep-100ba-reduced-labels/model.tf/assets\n"
     ]
    },
    {
     "name": "stderr",
     "output_type": "stream",
     "text": [
      "INFO:tensorflow:Assets written to: output_files/fruit-360-model-gpu-30ep-100ba-reduced-labels/model.tf/assets\n"
     ]
    },
    {
     "name": "stdout",
     "output_type": "stream",
     "text": [
      "Model saved successfully at output_files/fruit-360-model-gpu-30ep-100ba-reduced-labels/model.tf\n",
      "Logs during epoch end {'loss': 0.006774197798222303, 'accuracy': 0.9984350800514221, 'val_loss': 4.718099444289692e-05, 'val_accuracy': 1.0, 'lr': 0.0015625}\n",
      "INFO:tensorflow:Assets written to: output_files/fruit-360-model-gpu-30ep-100ba-reduced-labels/model.tf/assets\n"
     ]
    },
    {
     "name": "stderr",
     "output_type": "stream",
     "text": [
      "INFO:tensorflow:Assets written to: output_files/fruit-360-model-gpu-30ep-100ba-reduced-labels/model.tf/assets\n"
     ]
    },
    {
     "name": "stdout",
     "output_type": "stream",
     "text": [
      "Model saved successfully at output_files/fruit-360-model-gpu-30ep-100ba-reduced-labels/model.tf\n",
      "\n",
      "Epoch 28: ReduceLROnPlateau reducing learning rate to 0.0007812500116415322.\n",
      "Logs during epoch end {'loss': 0.0058634220622479916, 'accuracy': 0.9992175102233887, 'val_loss': 9.884826431516558e-05, 'val_accuracy': 1.0, 'lr': 0.0015625}\n",
      "INFO:tensorflow:Assets written to: output_files/fruit-360-model-gpu-30ep-100ba-reduced-labels/model.tf/assets\n"
     ]
    },
    {
     "name": "stderr",
     "output_type": "stream",
     "text": [
      "INFO:tensorflow:Assets written to: output_files/fruit-360-model-gpu-30ep-100ba-reduced-labels/model.tf/assets\n"
     ]
    },
    {
     "name": "stdout",
     "output_type": "stream",
     "text": [
      "Model saved successfully at output_files/fruit-360-model-gpu-30ep-100ba-reduced-labels/model.tf\n",
      "Logs during epoch end {'loss': 0.0077160862274467945, 'accuracy': 0.9976525902748108, 'val_loss': 5.26014446222689e-05, 'val_accuracy': 1.0, 'lr': 0.00078125}\n",
      "INFO:tensorflow:Assets written to: output_files/fruit-360-model-gpu-30ep-100ba-reduced-labels/model.tf/assets\n"
     ]
    },
    {
     "name": "stderr",
     "output_type": "stream",
     "text": [
      "INFO:tensorflow:Assets written to: output_files/fruit-360-model-gpu-30ep-100ba-reduced-labels/model.tf/assets\n"
     ]
    },
    {
     "name": "stdout",
     "output_type": "stream",
     "text": [
      "Model saved successfully at output_files/fruit-360-model-gpu-30ep-100ba-reduced-labels/model.tf\n",
      "Logs during epoch end {'loss': 0.008708576671779156, 'accuracy': 0.9976525902748108, 'val_loss': 4.49664075858891e-05, 'val_accuracy': 1.0, 'lr': 0.00078125}\n",
      "INFO:tensorflow:Assets written to: output_files/fruit-360-model-gpu-30ep-100ba-reduced-labels/model.tf/assets\n"
     ]
    },
    {
     "name": "stderr",
     "output_type": "stream",
     "text": [
      "INFO:tensorflow:Assets written to: output_files/fruit-360-model-gpu-30ep-100ba-reduced-labels/model.tf/assets\n"
     ]
    },
    {
     "name": "stdout",
     "output_type": "stream",
     "text": [
      "Model saved successfully at output_files/fruit-360-model-gpu-30ep-100ba-reduced-labels/model.tf\n",
      "True\n",
      "/mnt/f/PycharmProjects/Fruit-Images-Dataset/Fruit-Images-Dataset-master/src/image_classification\n",
      "Trying to load the model from: output_files/fruit-360-model-gpu-30ep-100ba-reduced-labels/model.tf\n",
      "2/2 [==============================] - 0s 138ms/step - loss: 2.8093e-05 - accuracy: 1.0000\n",
      "5/5 [==============================] - 3s 577ms/step - loss: 0.5101 - accuracy: 0.8989\n",
      "Validation: accuracy = 1.000000  ;  loss_v = 0.000028\n",
      "Test: accuracy = 0.898947  ;  loss_v = 0.510058\n"
     ]
    },
    {
     "data": {
      "text/plain": "<Figure size 640x480 with 2 Axes>",
      "image/png": "[encoded data removed]"
     },
     "metadata": {},
     "output_type": "display_data"
    },
    {
     "name": "stdout",
     "output_type": "stream",
     "text": [
      "5/5 [==============================] - 1s 176ms/step\n"
     ]
    },
    {
     "data": {
      "text/plain": "<Figure size 4000x4000 with 2 Axes>",
      "image/png": "[encoded data removed]"
     },
     "metadata": {},
     "output_type": "display_data"
    }
   ],
   "source": [
    "input_shape = (100, 100, 3)\n",
    "num_classes = 3\n",
    "\n",
    "model = network(input_shape=input_shape, num_classes=num_classes)\n",
    "train_and_evaluate_model(model, name=\"fruit-360-model-gpu-30ep-100ba-reduced-labels\")"
   ]
  },
  {
   "cell_type": "code",
   "outputs": [],
   "source": [],
   "metadata": {
    "collapsed": false
   }
  }
 ],
 "metadata": {
  "colab": {
   "name": "Fruits-360 CNN.ipynb",
   "provenance": [],
   "version": "0.3.2"
  },
  "kernelspec": {
   "name": "tensorflow_39_env",
   "language": "python",
   "display_name": "tensorflow_39_env"
  },
  "language_info": {
   "codemirror_mode": {
    "name": "ipython",
    "version": 3
   },
   "file_extension": ".py",
   "mimetype": "text/x-python",
   "name": "python",
   "nbconvert_exporter": "python",
   "pygments_lexer": "ipython3",
   "version": "3.9.18"
  },
  "pycharm": {
   "stem_cell": {
    "cell_type": "raw",
    "metadata": {
     "collapsed": false
    },
    "source": []
   }
  }
 },
 "nbformat": 4,
 "nbformat_minor": 4
}
